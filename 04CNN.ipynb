{
 "cells": [
  {
   "cell_type": "code",
   "execution_count": 1,
   "metadata": {},
   "outputs": [],
   "source": [
    "import numpy as np\n",
    "import pandas as pd\n",
    "import librosa\n",
    "import os\n",
    "import glob\n",
    "import re\n",
    "import seaborn as sns\n",
    "import matplotlib.pyplot as plt\n",
    "import scipy\n",
    "import time\n",
    "import collections\n",
    "import tensorflow as tf\n",
    "from tensorflow import keras\n",
    "from tensorflow.keras import utils\n",
    "from tensorflow.keras.layers import Conv2D, MaxPooling2D, GlobalAveragePooling2D\n",
    "from tensorflow.keras.layers import Dense, Dropout, Activation, Flatten\n",
    "from tensorflow.keras.preprocessing.image import ImageDataGenerator\n",
    "from tensorflow.keras.models import Sequential\n",
    "import pickle\n",
    "from tensorflow.keras.utils import plot_model\n",
    "from sklearn.metrics import confusion_matrix\n",
    "from sklearn.utils.multiclass import unique_labels\n",
    "from pathlib import Path\n",
    "from tensorflow.keras import backend as K\n",
    "K.set_image_data_format('channels_last')"
   ]
  },
  {
   "cell_type": "markdown",
   "metadata": {},
   "source": [
    "## Configuration data"
   ]
  },
  {
   "cell_type": "code",
   "execution_count": 10,
   "metadata": {},
   "outputs": [],
   "source": [
    "data_dir=\"/home/malvarez/TFG2/Instrumentos/DataInput/Preprocessed/\"\n",
    "models_dir='/home/malvarez/TFG2/Instrumentos/Models/CNN/'\n",
    "imagetype='X_MFCC'\n",
    "model_folder='/Ejemplo1/' #Change, you need a different model for each training\n",
    "\n",
    "#Convolutional layers\n",
    "layers=2\n",
    "\n",
    "batch_size = 100 #1000\n",
    "#training epochs\n",
    "epochs = 1000\n",
    "#assume we dont need data augmentation\n",
    "#data_augmentation = False"
   ]
  },
  {
   "cell_type": "markdown",
   "metadata": {},
   "source": [
    "## User defined functions"
   ]
  },
  {
   "cell_type": "code",
   "execution_count": 11,
   "metadata": {},
   "outputs": [],
   "source": [
    "def LoadPreprocessImage(data_dir,imagetype,settype):\n",
    "    \"\"\"\n",
    "    Define function that takes a data file with images and pre-processit to make it have the correct format \n",
    "    for Keras (i.e. samples * wx * wy * 1)\n",
    "    \"\"\"\n",
    "    \n",
    "    #We load the file \n",
    "    with open(data_dir+imagetype+\"_\"+settype+\".pickle\", 'rb') as f:\n",
    "        X = pickle.load(f)\n",
    "    \n",
    "    #We add the single forth dimension\n",
    "    sh=X.shape\n",
    "    sh=list(sh)\n",
    "    sh.append(1)\n",
    "    \n",
    "    X=X.reshape(sh)\n",
    "    \n",
    "    print(X.shape)\n",
    "    \n",
    "    return X"
   ]
  },
  {
   "cell_type": "code",
   "execution_count": 12,
   "metadata": {},
   "outputs": [],
   "source": [
    "def LoadPreprocessLabels(data_dir,settype,num_classes):\n",
    "    \"\"\"\n",
    "    Define function that takes a Label file and preprocess it to make it have the correct format \n",
    "    for Keras (it delets the non valid set, and make it 1hot)\n",
    "    \"\"\"\n",
    "    \n",
    "    with open(data_dir+\"Y_\"+settype+\".pickle\", 'rb') as f:\n",
    "        y = pickle.load(f)\n",
    "    \n",
    "    ind=y == 10\n",
    "    y[ind]=9\n",
    "    \n",
    "    print(len(y))\n",
    "    print(np.unique(y))\n",
    "    \n",
    "    if num_classes<0:\n",
    "        num_classes=np.unique(y).shape[0]\n",
    "    \n",
    "    y1hot=utils.to_categorical(y,num_classes=num_classes)\n",
    "    \n",
    "    return [y,y1hot,num_classes]"
   ]
  },
  {
   "cell_type": "code",
   "execution_count": 13,
   "metadata": {},
   "outputs": [],
   "source": [
    "def PrepareSingleCNN(shape,layers,num_classes):\n",
    "    \n",
    "    model = Sequential()\n",
    "    \n",
    "    u=32\n",
    "    \n",
    "    #We add as many intermediate layers as indicated in layers\n",
    "    for i in range(layers):\n",
    "        model.add(Conv2D(u, (3, 3), padding='same',\n",
    "                 input_shape=X_train.shape[1:], data_format='channels_last'))\n",
    "        model.add(Activation('relu'))\n",
    "        model.add(Conv2D(u, (3, 3), padding='same', data_format='channels_last'))\n",
    "        model.add(Activation('relu'))\n",
    "        model.add(MaxPooling2D(pool_size=(2, 2)))\n",
    "        model.add(Dropout(0.25))\n",
    "        u=u*2\n",
    "        \n",
    "\n",
    "    model.add(Flatten())\n",
    "    model.add(Dense(u))\n",
    "    model.add(Activation('relu'))\n",
    "    model.add(Dropout(0.5))\n",
    "    model.add(Dense(num_classes))\n",
    "    model.add(Activation('softmax'))\n",
    "    \n",
    "    \n",
    "    model.summary()\n",
    "    \n",
    "    \n",
    "    opt = keras.optimizers.Adam(lr=0.0001, beta_1=0.9, beta_2=0.999, epsilon=None, decay=0.0, amsgrad=False)\n",
    "\n",
    "\n",
    "    # Let's train the model\n",
    "    model.compile(loss='categorical_crossentropy',\n",
    "              optimizer=opt,\n",
    "              metrics=['accuracy','acc'])\n",
    "    \n",
    "    return model"
   ]
  },
  {
   "cell_type": "code",
   "execution_count": 14,
   "metadata": {},
   "outputs": [],
   "source": [
    "def plot_confusion_matrix(y_true, y_pred, classes,\n",
    "                          normalize=False,\n",
    "                          title=None,\n",
    "                          cmap=plt.cm.Blues):\n",
    "    \"\"\"\n",
    "    This function prints and plots the confusion matrix.\n",
    "    Normalization can be applied by setting `normalize=True`.\n",
    "    \"\"\"\n",
    "    if not title:\n",
    "        if normalize:\n",
    "            title = 'Normalized confusion matrix'\n",
    "        else:\n",
    "            title = 'Confusion matrix, without normalization'\n",
    "\n",
    "    # Compute confusion matrix\n",
    "    cm = confusion_matrix(y_true, y_pred)\n",
    "    # Only use the labels that appear in the data\n",
    "    classes = classes[unique_labels(y_true, y_pred)]\n",
    "    if normalize:\n",
    "        cm = cm.astype('float') / cm.sum(axis=1)[:, np.newaxis]\n",
    "        print(\"Normalized confusion matrix\")\n",
    "    else:\n",
    "        print('Confusion matrix, without normalization')\n",
    "\n",
    "    print(cm)\n",
    "\n",
    "    fig, ax = plt.subplots(figsize=(10,10))\n",
    "    im = ax.imshow(cm, interpolation='nearest', cmap=cmap)\n",
    "    ax.figure.colorbar(im, ax=ax)\n",
    "    # We want to show all ticks...\n",
    "    ax.set(xticks=np.arange(cm.shape[1]),\n",
    "           yticks=np.arange(cm.shape[0]),\n",
    "           # ... and label them with the respective list entries\n",
    "           xticklabels=classes, yticklabels=classes,\n",
    "           title=title,\n",
    "           ylabel='True label',\n",
    "           xlabel='Predicted label')\n",
    "\n",
    "    # Rotate the tick labels and set their alignment.\n",
    "    plt.setp(ax.get_xticklabels(), rotation=45, ha=\"right\",\n",
    "             rotation_mode=\"anchor\")\n",
    "    \n",
    "    # Loop over data dimensions and create text annotations.\n",
    "    fmt = '.2f' if normalize else 'd'\n",
    "    thresh = cm.max() / 2.\n",
    "    for i in range(cm.shape[0]):\n",
    "        for j in range(cm.shape[1]):\n",
    "            ax.text(j, i, format(cm[i, j], fmt),\n",
    "                    ha=\"center\", va=\"center\",\n",
    "                    color=\"white\" if cm[i, j] > thresh else \"black\")\n",
    "  \n",
    "    return ax"
   ]
  },
  {
   "cell_type": "markdown",
   "metadata": {},
   "source": [
    "### Load Data"
   ]
  },
  {
   "cell_type": "code",
   "execution_count": 15,
   "metadata": {},
   "outputs": [
    {
     "name": "stdout",
     "output_type": "stream",
     "text": [
      "(500, 13, 173, 1)\n",
      "(50, 13, 173, 1)\n",
      "(50, 13, 173, 1)\n"
     ]
    }
   ],
   "source": [
    "#Load Images\n",
    "X_train=LoadPreprocessImage(data_dir,imagetype,'train')\n",
    "X_test=LoadPreprocessImage(data_dir,imagetype,'test')\n",
    "X_valid=LoadPreprocessImage(data_dir,imagetype,'valid')"
   ]
  },
  {
   "cell_type": "code",
   "execution_count": 16,
   "metadata": {},
   "outputs": [
    {
     "name": "stdout",
     "output_type": "stream",
     "text": [
      "500\n",
      "[0 1 2 3 4 5 6 7 8 9]\n",
      "50\n",
      "[0 1 2 3 4 5 6 7 8 9]\n",
      "50\n",
      "[0 1 2 3 4 5 6 7 8 9]\n"
     ]
    }
   ],
   "source": [
    "#load targets\n",
    "Y_train,Y1hot_train,num_classes=LoadPreprocessLabels(data_dir,'train',-1)\n",
    "Y_test,Y1hot_test,cc=LoadPreprocessLabels(data_dir,'test',num_classes)\n",
    "Y_valid,Y1hot_valid,cc=LoadPreprocessLabels(data_dir,'valid',num_classes)"
   ]
  },
  {
   "cell_type": "markdown",
   "metadata": {},
   "source": [
    "## Prepare model"
   ]
  },
  {
   "cell_type": "code",
   "execution_count": 17,
   "metadata": {},
   "outputs": [
    {
     "name": "stdout",
     "output_type": "stream",
     "text": [
      "Model: \"sequential_1\"\n",
      "_________________________________________________________________\n",
      "Layer (type)                 Output Shape              Param #   \n",
      "=================================================================\n",
      "conv2d_6 (Conv2D)            (None, 13, 173, 32)       320       \n",
      "_________________________________________________________________\n",
      "activation_6 (Activation)    (None, 13, 173, 32)       0         \n",
      "_________________________________________________________________\n",
      "conv2d_7 (Conv2D)            (None, 13, 173, 32)       9248      \n",
      "_________________________________________________________________\n",
      "activation_7 (Activation)    (None, 13, 173, 32)       0         \n",
      "_________________________________________________________________\n",
      "max_pooling2d_3 (MaxPooling2 (None, 6, 86, 32)         0         \n",
      "_________________________________________________________________\n",
      "dropout_2 (Dropout)          (None, 6, 86, 32)         0         \n",
      "_________________________________________________________________\n",
      "conv2d_8 (Conv2D)            (None, 6, 86, 64)         18496     \n",
      "_________________________________________________________________\n",
      "activation_8 (Activation)    (None, 6, 86, 64)         0         \n",
      "_________________________________________________________________\n",
      "conv2d_9 (Conv2D)            (None, 6, 86, 64)         36928     \n",
      "_________________________________________________________________\n",
      "activation_9 (Activation)    (None, 6, 86, 64)         0         \n",
      "_________________________________________________________________\n",
      "max_pooling2d_4 (MaxPooling2 (None, 3, 43, 64)         0         \n",
      "_________________________________________________________________\n",
      "dropout_3 (Dropout)          (None, 3, 43, 64)         0         \n",
      "_________________________________________________________________\n",
      "conv2d_10 (Conv2D)           (None, 3, 43, 128)        73856     \n",
      "_________________________________________________________________\n",
      "activation_10 (Activation)   (None, 3, 43, 128)        0         \n",
      "_________________________________________________________________\n",
      "conv2d_11 (Conv2D)           (None, 3, 43, 128)        147584    \n",
      "_________________________________________________________________\n",
      "activation_11 (Activation)   (None, 3, 43, 128)        0         \n",
      "_________________________________________________________________\n",
      "max_pooling2d_5 (MaxPooling2 (None, 1, 21, 128)        0         \n",
      "_________________________________________________________________\n",
      "dropout_4 (Dropout)          (None, 1, 21, 128)        0         \n",
      "_________________________________________________________________\n",
      "flatten (Flatten)            (None, 2688)              0         \n",
      "_________________________________________________________________\n",
      "dense (Dense)                (None, 256)               688384    \n",
      "_________________________________________________________________\n",
      "activation_12 (Activation)   (None, 256)               0         \n",
      "_________________________________________________________________\n",
      "dropout_5 (Dropout)          (None, 256)               0         \n",
      "_________________________________________________________________\n",
      "dense_1 (Dense)              (None, 10)                2570      \n",
      "_________________________________________________________________\n",
      "activation_13 (Activation)   (None, 10)                0         \n",
      "=================================================================\n",
      "Total params: 977,386\n",
      "Trainable params: 977,386\n",
      "Non-trainable params: 0\n",
      "_________________________________________________________________\n"
     ]
    }
   ],
   "source": [
    "model=PrepareSingleCNN(X_train.shape[1:],layers,num_classes)"
   ]
  },
  {
   "cell_type": "markdown",
   "metadata": {},
   "source": [
    "## Train model"
   ]
  },
  {
   "cell_type": "code",
   "execution_count": 18,
   "metadata": {},
   "outputs": [
    {
     "name": "stdout",
     "output_type": "stream",
     "text": [
      "Epoch 1/5\n",
      "25/25 [==============================] - 1s 59ms/step - loss: 6.4714 - accuracy: 0.1280 - acc: 0.1280 - val_loss: 2.2315 - val_accuracy: 0.0800 - val_acc: 0.0800\n",
      "Epoch 2/5\n",
      "25/25 [==============================] - 1s 53ms/step - loss: 2.8118 - accuracy: 0.1300 - acc: 0.1300 - val_loss: 2.2124 - val_accuracy: 0.2000 - val_acc: 0.2000\n",
      "Epoch 3/5\n",
      "25/25 [==============================] - 1s 53ms/step - loss: 2.5318 - accuracy: 0.0880 - acc: 0.0880 - val_loss: 2.2260 - val_accuracy: 0.2200 - val_acc: 0.2200\n",
      "Epoch 4/5\n",
      "25/25 [==============================] - 1s 53ms/step - loss: 2.3802 - accuracy: 0.1240 - acc: 0.1240 - val_loss: 2.2210 - val_accuracy: 0.1200 - val_acc: 0.1200\n",
      "Epoch 5/5\n",
      "25/25 [==============================] - 1s 53ms/step - loss: 2.3841 - accuracy: 0.1340 - acc: 0.1340 - val_loss: 2.2151 - val_accuracy: 0.1600 - val_acc: 0.1600\n"
     ]
    }
   ],
   "source": [
    "history = model.fit(X_train, Y1hot_train,\n",
    "          batch_size=batch_size,\n",
    "          epochs=epochs,\n",
    "          validation_data=(X_valid, Y1hot_valid),\n",
    "          shuffle=True)"
   ]
  },
  {
   "cell_type": "code",
   "execution_count": 19,
   "metadata": {},
   "outputs": [],
   "source": [
    "#Prepare model folder, in case it does not exist\n",
    "models_dir=models_dir+imagetype+model_folder\n",
    "if not os.path.isdir(models_dir):\n",
    "    os.makedirs(models_dir)"
   ]
  },
  {
   "cell_type": "code",
   "execution_count": 20,
   "metadata": {},
   "outputs": [
    {
     "data": {
      "image/png": "[encoded data removed]",
      "text/plain": [
       "<Figure size 432x288 with 1 Axes>"
      ]
     },
     "metadata": {
      "needs_background": "light"
     },
     "output_type": "display_data"
    }
   ],
   "source": [
    "# Plot training & validation accuracy values\n",
    "plt.plot(history.history['acc'])\n",
    "plt.plot(history.history['val_acc'])\n",
    "plt.title('Model accuracy')\n",
    "plt.ylabel('Accuracy')\n",
    "plt.xlabel('Epoch')\n",
    "plt.legend(['Train', 'Valid'], loc='upper left')\n",
    "plt.savefig(models_dir+'accuracy.png')\n",
    "plt.show()\n",
    "plt.clf()"
   ]
  },
  {
   "cell_type": "code",
   "execution_count": 21,
   "metadata": {},
   "outputs": [
    {
     "data": {
      "image/png": "[encoded data removed]",
      "text/plain": [
       "<Figure size 432x288 with 1 Axes>"
      ]
     },
     "metadata": {
      "needs_background": "light"
     },
     "output_type": "display_data"
    },
    {
     "data": {
      "text/plain": [
       "<Figure size 432x288 with 0 Axes>"
      ]
     },
     "metadata": {},
     "output_type": "display_data"
    }
   ],
   "source": [
    "# Plot training & validation loss values\n",
    "plt.plot(history.history['loss'])\n",
    "plt.plot(history.history['val_loss'])\n",
    "plt.title('Model loss')\n",
    "plt.ylabel('Loss')\n",
    "plt.xlabel('Epoch')\n",
    "plt.legend(['Train', 'Valid'], loc='upper left')\n",
    "plt.savefig(models_dir+'loss.png')\n",
    "plt.show()\n",
    "plt.clf()"
   ]
  },
  {
   "cell_type": "code",
   "execution_count": 22,
   "metadata": {},
   "outputs": [
    {
     "name": "stdout",
     "output_type": "stream",
     "text": [
      "WARNING:tensorflow:From C:\\Users\\alver\\anaconda3\\envs\\NSynth\\lib\\site-packages\\tensorflow\\python\\training\\tracking\\tracking.py:111: Model.state_updates (from tensorflow.python.keras.engine.training) is deprecated and will be removed in a future version.\n",
      "Instructions for updating:\n",
      "This property should not be used in TensorFlow 2.0, as updates are applied automatically.\n",
      "WARNING:tensorflow:From C:\\Users\\alver\\anaconda3\\envs\\NSynth\\lib\\site-packages\\tensorflow\\python\\training\\tracking\\tracking.py:111: Layer.updates (from tensorflow.python.keras.engine.base_layer) is deprecated and will be removed in a future version.\n",
      "Instructions for updating:\n",
      "This property should not be used in TensorFlow 2.0, as updates are applied automatically.\n",
      "INFO:tensorflow:Assets written to: C:/Users/alver/Desktop/TFG/TFG2/Instrumentos/Models/CNN/X_MFCC/Ejemplo1/model\\assets\n",
      "Saved trained model at C:/Users/alver/Desktop/TFG/TFG2/Instrumentos/Models/CNN/X_MFCC/Ejemplo1/model \n"
     ]
    }
   ],
   "source": [
    "# Save model and weights\n",
    "model_path = os.path.join(models_dir,\"model\")\n",
    "model.save(model_path)\n",
    "print('Saved trained model at %s ' % model_path)"
   ]
  },
  {
   "cell_type": "code",
   "execution_count": 23,
   "metadata": {},
   "outputs": [
    {
     "name": "stdout",
     "output_type": "stream",
     "text": [
      "2/2 [==============================] - 0s 4ms/step - loss: 2.2025 - accuracy: 0.2800 - acc: 0.2800\n",
      "Test loss: 2.202526330947876\n",
      "Test accuracy: 0.2800000011920929\n"
     ]
    }
   ],
   "source": [
    "# Score trained model.\n",
    "scores = model.evaluate(X_test, Y1hot_test, verbose=1)\n",
    "print('Test loss:', scores[0])\n",
    "print('Test accuracy:', scores[1])\n",
    "file = open(models_dir + \"Precisiones.txt\",\"w\")\n",
    "file.write('Test loss: {0:.3}\\n'.format(scores[0]))\n",
    "file.write('Test accuracy: {0:.2%}'.format(scores[1]))\n",
    "file.close()"
   ]
  },
  {
   "cell_type": "code",
   "execution_count": 24,
   "metadata": {},
   "outputs": [
    {
     "name": "stdout",
     "output_type": "stream",
     "text": [
      "WARNING:tensorflow:From <ipython-input-24-e3c62d36e265>:1: Sequential.predict_classes (from tensorflow.python.keras.engine.sequential) is deprecated and will be removed after 2021-01-01.\n",
      "Instructions for updating:\n",
      "Please use instead:* `np.argmax(model.predict(x), axis=-1)`,   if your model does multi-class classification   (e.g. if it uses a `softmax` last-layer activation).* `(model.predict(x) > 0.5).astype(\"int32\")`,   if your model does binary classification   (e.g. if it uses a `sigmoid` last-layer activation).\n",
      "[6 5 5 5 5 2 1 5 7 2 1 2 1 5 5 1 2 5 5 2 5 5 1 6 7 7 6 1 5 1 1 0 1 1 5 5 1\n",
      " 7 1 1 5 0 1 5 5 5 5 5 1 5]\n"
     ]
    }
   ],
   "source": [
    "Y_pred = model.predict_classes(X_test)\n",
    "print(Y_pred)"
   ]
  },
  {
   "cell_type": "code",
   "execution_count": 25,
   "metadata": {
    "scrolled": true
   },
   "outputs": [
    {
     "name": "stdout",
     "output_type": "stream",
     "text": [
      "[6 0 1 4 4 1 7 4 2 2 8 9 8 3 4 6 2 5 5 2 4 5 9 6 3 9 6 7 0 8 1 3 7 8 2 8 1\n",
      " 9 1 9 5 6 7 5 7 0 3 3 0 0]\n",
      "['bass' 'brass' 'flute' 'guitar' 'keyboard' 'mallet' 'organ' 'reed'\n",
      " 'string' 'vocal']\n"
     ]
    }
   ],
   "source": [
    "class_names=np.array(['bass', 'brass', 'flute', 'guitar', \n",
    "             'keyboard', 'mallet', 'organ', 'reed', \n",
    "             'string', 'vocal'])\n",
    "print(Y_test)\n",
    "print(class_names)"
   ]
  },
  {
   "cell_type": "code",
   "execution_count": 26,
   "metadata": {},
   "outputs": [
    {
     "name": "stdout",
     "output_type": "stream",
     "text": [
      "Normalized confusion matrix\n",
      "[[0.  0.2 0.  0.  0.  0.8 0.  0.  0.  0. ]\n",
      " [0.  0.6 0.2 0.  0.  0.2 0.  0.  0.  0. ]\n",
      " [0.  0.  0.6 0.  0.  0.2 0.  0.2 0.  0. ]\n",
      " [0.2 0.  0.  0.  0.  0.6 0.  0.2 0.  0. ]\n",
      " [0.  0.  0.  0.  0.  1.  0.  0.  0.  0. ]\n",
      " [0.  0.  0.  0.  0.  1.  0.  0.  0.  0. ]\n",
      " [0.2 0.2 0.  0.  0.  0.  0.6 0.  0.  0. ]\n",
      " [0.  0.8 0.  0.  0.  0.2 0.  0.  0.  0. ]\n",
      " [0.  0.8 0.  0.  0.  0.2 0.  0.  0.  0. ]\n",
      " [0.  0.4 0.2 0.  0.  0.  0.  0.4 0.  0. ]]\n"
     ]
    },
    {
     "data": {
      "image/png": "[encoded data removed]",
      "text/plain": [
       "<Figure size 720x720 with 2 Axes>"
      ]
     },
     "metadata": {
      "needs_background": "light"
     },
     "output_type": "display_data"
    }
   ],
   "source": [
    "plot_confusion_matrix(Y_test, Y_pred, classes=class_names, normalize=True,\n",
    "                      title='Normalized confusion matrix for CNN')\n",
    "\n",
    "plt.savefig(models_dir+'ConfusionMatrix_normalized.png')"
   ]
  }
 ],
 "metadata": {
  "kernelspec": {
   "display_name": "Python 3",
   "language": "python",
   "name": "python3"
  },
  "language_info": {
   "codemirror_mode": {
    "name": "ipython",
    "version": 3
   },
   "file_extension": ".py",
   "mimetype": "text/x-python",
   "name": "python",
   "nbconvert_exporter": "python",
   "pygments_lexer": "ipython3",
   "version": "3.8.5"
  }
 },
 "nbformat": 4,
 "nbformat_minor": 2
}
