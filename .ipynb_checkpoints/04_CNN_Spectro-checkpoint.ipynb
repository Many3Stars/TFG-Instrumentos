{
 "cells": [
  {
   "cell_type": "code",
   "execution_count": 1,
   "metadata": {},
   "outputs": [],
   "source": [
    "import numpy as np\n",
    "import pandas as pd\n",
    "import librosa\n",
    "import os\n",
    "import glob\n",
    "import re\n",
    "import seaborn as sns\n",
    "import matplotlib.pyplot as plt\n",
    "import scipy\n",
    "import time\n",
    "import collections\n",
    "import keras\n",
    "from keras.utils import np_utils, to_categorical\n",
    "from keras.layers import Conv2D, MaxPooling2D, GlobalAveragePooling2D\n",
    "from keras.layers import Dense, Dropout, Activation, Flatten\n",
    "from keras.preprocessing.image import ImageDataGenerator\n",
    "from keras.models import Sequential\n",
    "import tensorflow as tf\n",
    "import pickle\n",
    "from keras.utils.vis_utils import plot_model\n"
   ]
  },
  {
   "cell_type": "markdown",
   "metadata": {},
   "source": [
    "## Configuration data"
   ]
  },
  {
   "cell_type": "code",
   "execution_count": 2,
   "metadata": {},
   "outputs": [],
   "source": [
    "data_dir=\"C:/Users/alver/Desktop/TFG/TFG2/Instrumentos/DataInput/Preprocessed/\"\n",
    "models_dir='C:/Users/alver/Desktop/TFG/TFG2/Instrumentos/Models/CNN/'\n",
    "imagetype='X_SPECTRO'\n",
    "model_folder='/Ejemplo1/' #Change, you need a different model for each training\n",
    "\n",
    "#Convolutional layers\n",
    "layers=2\n",
    "\n",
    "batch_size = 500 #1000\n",
    "#training epochs\n",
    "epochs = 50\n",
    "#assume we dont need data augmentation\n",
    "#data_augmentation = False"
   ]
  },
  {
   "cell_type": "markdown",
   "metadata": {},
   "source": [
    "## User defined functions"
   ]
  },
  {
   "cell_type": "code",
   "execution_count": 3,
   "metadata": {},
   "outputs": [],
   "source": [
    "def LoadPreprocessImage(data_dir,imagetype,settype):\n",
    "    \"\"\"\n",
    "    Define function that takes a data file with images and pre-processit to make it have the correct format \n",
    "    for Keras (i.e. samples * wx * wy * 1)\n",
    "    \"\"\"\n",
    "    \n",
    "    #We load the file \n",
    "    with open(data_dir+imagetype+\"_\"+settype+\".pickle\", 'rb') as f:\n",
    "        #print(f)\n",
    "        X = pickle.load(f)\n",
    "    \n",
    "    #We add the single forth dimension\n",
    "    sh=X.shape\n",
    "    sh=list(sh)\n",
    "    sh.append(1)\n",
    "    \n",
    "    X=X.reshape(sh)\n",
    "    \n",
    "    print(X.shape)\n",
    "    \n",
    "    return X"
   ]
  },
  {
   "cell_type": "code",
   "execution_count": 4,
   "metadata": {},
   "outputs": [],
   "source": [
    "def LoadPreprocessLabels(data_dir,settype,num_classes):\n",
    "    \"\"\"\n",
    "    Define function that takes a Label file and preprocess it to make it have the correct format \n",
    "    for Keras (it delets the non valid set, and make it 1hot)\n",
    "    \"\"\"\n",
    "    \n",
    "    with open(data_dir+\"Y_\"+settype+\".pickle\", 'rb') as f:\n",
    "        y = pickle.load(f)\n",
    "    \n",
    "    ind=y == 10\n",
    "    y[ind]=9\n",
    "    \n",
    "    print(len(y))\n",
    "    print(np.unique(y))\n",
    "    \n",
    "    if num_classes<0:\n",
    "        num_classes=np.unique(y).shape[0]\n",
    "    \n",
    "    y1hot=to_categorical(y,num_classes=num_classes)\n",
    "    #y1hot=[]\n",
    "    \n",
    "    return [y,y1hot,num_classes]"
   ]
  },
  {
   "cell_type": "code",
   "execution_count": 5,
   "metadata": {},
   "outputs": [],
   "source": [
    "def PrepareSingleCNN(shape,layers,num_classes):\n",
    "    \n",
    "    model = Sequential()\n",
    "      \n",
    "    #=X_train.shape[1:]\n",
    "    \n",
    "    u=32\n",
    "    \n",
    "    #We add as many intermediate layers as indicated in layers\n",
    "    for i in range(layers):\n",
    "        model.add(Conv2D(u, (3, 3), padding='same',\n",
    "                 input_shape=X_train.shape[1:]))\n",
    "        model.add(Activation('relu'))\n",
    "        model.add(Conv2D(u, (3, 3)))\n",
    "        model.add(Activation('relu'))\n",
    "        model.add(MaxPooling2D(pool_size=(2, 2)))\n",
    "        model.add(Dropout(0.25))\n",
    "        u=u*2\n",
    "        \n",
    "\n",
    "    model.add(Flatten())\n",
    "    model.add(Dense(u))\n",
    "    model.add(Activation('relu'))\n",
    "    model.add(Dropout(0.5))\n",
    "    model.add(Dense(num_classes))\n",
    "    model.add(Activation('softmax'))\n",
    "    \n",
    "    \n",
    "    model.summary()\n",
    "    \n",
    "    \n",
    "    opt = keras.optimizers.Adam(lr=0.0001, beta_1=0.9, beta_2=0.999, epsilon=None, decay=0.0, amsgrad=False)\n",
    "\n",
    "\n",
    "    # Let's train the model\n",
    "    model.compile(loss='categorical_crossentropy',\n",
    "              optimizer=opt,\n",
    "              metrics=['accuracy','acc'])\n",
    "    \n",
    "    return model\n",
    "    "
   ]
  },
  {
   "cell_type": "code",
   "execution_count": 6,
   "metadata": {},
   "outputs": [],
   "source": [
    "def plot_confusion_matrix(y_true, y_pred, classes,\n",
    "                          normalize=False,\n",
    "                          title=None,\n",
    "                          cmap=plt.cm.Blues):\n",
    "    \"\"\"\n",
    "    This function prints and plots the confusion matrix.\n",
    "    Normalization can be applied by setting `normalize=True`.\n",
    "    \"\"\"\n",
    "    if not title:\n",
    "        if normalize:\n",
    "            title = 'Normalized confusion matrix'\n",
    "        else:\n",
    "            title = 'Confusion matrix, without normalization'\n",
    "\n",
    "    # Compute confusion matrix\n",
    "    cm = confusion_matrix(y_true, y_pred)\n",
    "    # Only use the labels that appear in the data\n",
    "    classes = classes[unique_labels(y_true, y_pred)]\n",
    "    if normalize:\n",
    "        cm = cm.astype('float') / cm.sum(axis=1)[:, np.newaxis]\n",
    "        print(\"Normalized confusion matrix\")\n",
    "    else:\n",
    "        print('Confusion matrix, without normalization')\n",
    "\n",
    "    print(cm)\n",
    "\n",
    "    fig, ax = plt.subplots(figsize=(10,10))\n",
    "    im = ax.imshow(cm, interpolation='nearest', cmap=cmap)\n",
    "    ax.figure.colorbar(im, ax=ax)\n",
    "    # We want to show all ticks...\n",
    "    ax.set(xticks=np.arange(cm.shape[1]),\n",
    "           yticks=np.arange(cm.shape[0]),\n",
    "           # ... and label them with the respective list entries\n",
    "           xticklabels=classes, yticklabels=classes,\n",
    "           title=title,\n",
    "           ylabel='True label',\n",
    "           xlabel='Predicted label')\n",
    "\n",
    "    # Rotate the tick labels and set their alignment.\n",
    "    plt.setp(ax.get_xticklabels(), rotation=45, ha=\"right\",\n",
    "             rotation_mode=\"anchor\")\n",
    "    \n",
    "    # Loop over data dimensions and create text annotations.\n",
    "    fmt = '.2f' if normalize else 'd'\n",
    "    thresh = cm.max() / 2.\n",
    "    for i in range(cm.shape[0]):\n",
    "        for j in range(cm.shape[1]):\n",
    "            ax.text(j, i, format(cm[i, j], fmt),\n",
    "                    ha=\"center\", va=\"center\",\n",
    "                    color=\"white\" if cm[i, j] > thresh else \"black\")\n",
    "    #fig.tight_layout()\n",
    "    return ax"
   ]
  },
  {
   "cell_type": "markdown",
   "metadata": {},
   "source": [
    "### Load Data"
   ]
  },
  {
   "cell_type": "code",
   "execution_count": 7,
   "metadata": {},
   "outputs": [
    {
     "name": "stdout",
     "output_type": "stream",
     "text": [
      "(500, 128, 173, 1)\n",
      "(50, 128, 173, 1)\n",
      "(50, 128, 173, 1)\n"
     ]
    }
   ],
   "source": [
    "#Load Images\n",
    "X_train=LoadPreprocessImage(data_dir,imagetype,'train')\n",
    "X_test=LoadPreprocessImage(data_dir,imagetype,'test')\n",
    "X_valid=LoadPreprocessImage(data_dir,imagetype,'valid')"
   ]
  },
  {
   "cell_type": "code",
   "execution_count": 8,
   "metadata": {},
   "outputs": [
    {
     "name": "stdout",
     "output_type": "stream",
     "text": [
      "500\n",
      "[0 1 2 3 4 5 6 7 8 9]\n",
      "50\n",
      "[0 1 2 3 4 5 6 7 8 9]\n",
      "50\n",
      "[0 1 2 3 4 5 6 7 8 9]\n"
     ]
    }
   ],
   "source": [
    "#load targets\n",
    "Y_train,Y1hot_train,num_classes=LoadPreprocessLabels(data_dir,'train',-1)\n",
    "Y_test,Y1hot_test,cc=LoadPreprocessLabels(data_dir,'test',num_classes)\n",
    "Y_valid,Y1hot_valid,cc=LoadPreprocessLabels(data_dir,'valid',num_classes)"
   ]
  },
  {
   "cell_type": "markdown",
   "metadata": {},
   "source": [
    "## Prepare model"
   ]
  },
  {
   "cell_type": "code",
   "execution_count": 9,
   "metadata": {},
   "outputs": [
    {
     "name": "stdout",
     "output_type": "stream",
     "text": [
      "Model: \"sequential\"\n",
      "_________________________________________________________________\n",
      "Layer (type)                 Output Shape              Param #   \n",
      "=================================================================\n",
      "conv2d (Conv2D)              (None, 128, 173, 32)      320       \n",
      "_________________________________________________________________\n",
      "activation (Activation)      (None, 128, 173, 32)      0         \n",
      "_________________________________________________________________\n",
      "conv2d_1 (Conv2D)            (None, 126, 171, 32)      9248      \n",
      "_________________________________________________________________\n",
      "activation_1 (Activation)    (None, 126, 171, 32)      0         \n",
      "_________________________________________________________________\n",
      "max_pooling2d (MaxPooling2D) (None, 63, 85, 32)        0         \n",
      "_________________________________________________________________\n",
      "dropout (Dropout)            (None, 63, 85, 32)        0         \n",
      "_________________________________________________________________\n",
      "conv2d_2 (Conv2D)            (None, 63, 85, 64)        18496     \n",
      "_________________________________________________________________\n",
      "activation_2 (Activation)    (None, 63, 85, 64)        0         \n",
      "_________________________________________________________________\n",
      "conv2d_3 (Conv2D)            (None, 61, 83, 64)        36928     \n",
      "_________________________________________________________________\n",
      "activation_3 (Activation)    (None, 61, 83, 64)        0         \n",
      "_________________________________________________________________\n",
      "max_pooling2d_1 (MaxPooling2 (None, 30, 41, 64)        0         \n",
      "_________________________________________________________________\n",
      "dropout_1 (Dropout)          (None, 30, 41, 64)        0         \n",
      "_________________________________________________________________\n",
      "flatten (Flatten)            (None, 78720)             0         \n",
      "_________________________________________________________________\n",
      "dense (Dense)                (None, 128)               10076288  \n",
      "_________________________________________________________________\n",
      "activation_4 (Activation)    (None, 128)               0         \n",
      "_________________________________________________________________\n",
      "dropout_2 (Dropout)          (None, 128)               0         \n",
      "_________________________________________________________________\n",
      "dense_1 (Dense)              (None, 10)                1290      \n",
      "_________________________________________________________________\n",
      "activation_5 (Activation)    (None, 10)                0         \n",
      "=================================================================\n",
      "Total params: 10,142,570\n",
      "Trainable params: 10,142,570\n",
      "Non-trainable params: 0\n",
      "_________________________________________________________________\n"
     ]
    }
   ],
   "source": [
    "#print(\"Trained model will be saved as {} in directory {}\".format(model_name, save_dir))\n",
    "model=PrepareSingleCNN(X_train.shape[1:],layers,num_classes)"
   ]
  },
  {
   "cell_type": "markdown",
   "metadata": {},
   "source": [
    "## Train model"
   ]
  },
  {
   "cell_type": "code",
   "execution_count": null,
   "metadata": {},
   "outputs": [
    {
     "name": "stdout",
     "output_type": "stream",
     "text": [
      "Epoch 1/50\n"
     ]
    }
   ],
   "source": [
    "history = model.fit(X_train, Y1hot_train,\n",
    "          batch_size=batch_size,\n",
    "          epochs=epochs,\n",
    "          validation_data=(X_valid, Y1hot_valid),\n",
    "          shuffle=True)"
   ]
  },
  {
   "cell_type": "code",
   "execution_count": 10,
   "metadata": {},
   "outputs": [],
   "source": [
    "#Prepare model folder, in case it does not exist\n",
    "models_dir=models_dir+imagetype+model_folder\n",
    "if not os.path.isdir(models_dir):\n",
    "    os.makedirs(models_dir)"
   ]
  },
  {
   "cell_type": "code",
   "execution_count": 11,
   "metadata": {},
   "outputs": [
    {
     "data": {
      "image/png": "[encoded data removed]",
      "text/plain": [
       "<Figure size 432x288 with 1 Axes>"
      ]
     },
     "metadata": {
      "needs_background": "light"
     },
     "output_type": "display_data"
    }
   ],
   "source": [
    "# Plot training & validation accuracy values\n",
    "plt.plot(history.history['acc'])\n",
    "plt.plot(history.history['val_acc'])\n",
    "plt.title('Model accuracy')\n",
    "plt.ylabel('Accuracy')\n",
    "plt.xlabel('Epoch')\n",
    "plt.legend(['Train', 'Valid'], loc='upper left')\n",
    "plt.savefig(models_dir+'accuracy.png')\n",
    "plt.show()"
   ]
  },
  {
   "cell_type": "code",
   "execution_count": 12,
   "metadata": {},
   "outputs": [
    {
     "data": {
      "image/png": "[encoded data removed]",
      "text/plain": [
       "<Figure size 432x288 with 1 Axes>"
      ]
     },
     "metadata": {
      "needs_background": "light"
     },
     "output_type": "display_data"
    }
   ],
   "source": [
    "# Plot training & validation loss values\n",
    "plt.plot(history.history['loss'])\n",
    "plt.plot(history.history['val_loss'])\n",
    "plt.title('Model loss')\n",
    "plt.ylabel('Loss')\n",
    "plt.xlabel('Epoch')\n",
    "plt.legend(['Train', 'Valid'], loc='upper left')\n",
    "plt.savefig(models_dir+'loss.png')\n",
    "plt.show()"
   ]
  },
  {
   "cell_type": "code",
   "execution_count": 13,
   "metadata": {},
   "outputs": [
    {
     "name": "stdout",
     "output_type": "stream",
     "text": [
      "INFO:tensorflow:Assets written to: Models/CNN/X_SPECTRO/Ejemplo1/model/assets\n",
      "Saved trained model at Models/CNN/X_SPECTRO/Ejemplo1/model \n"
     ]
    }
   ],
   "source": [
    "# Save model and weights\n",
    "model_path = os.path.join(models_dir,\"model\")\n",
    "model.save(model_path)\n",
    "print('Saved trained model at %s ' % model_path)"
   ]
  },
  {
   "cell_type": "code",
   "execution_count": 14,
   "metadata": {},
   "outputs": [
    {
     "name": "stdout",
     "output_type": "stream",
     "text": [
      "2/2 [==============================] - 0s 90ms/step - loss: 2.7119 - accuracy: 0.2400 - acc: 0.2400\n",
      "Test loss: 2.7119431495666504\n",
      "Test accuracy: 0.23999999463558197\n"
     ]
    }
   ],
   "source": [
    "# Score trained model.\n",
    "scores = model.evaluate(X_test, Y1hot_test, verbose=1)\n",
    "print('Test loss:', scores[0])\n",
    "print('Test accuracy:', scores[1])"
   ]
  },
  {
   "cell_type": "code",
   "execution_count": null,
   "metadata": {},
   "outputs": [],
   "source": [
    "# Manuel, can you do a confusion matrix? I have already brought the code from the other case. \n",
    "# It is necessary to obtain y_pred from the model"
   ]
  },
  {
   "cell_type": "code",
   "execution_count": null,
   "metadata": {},
   "outputs": [],
   "source": []
  }
 ],
 "metadata": {
  "kernelspec": {
   "display_name": "Python 3",
   "language": "python",
   "name": "python3"
  },
  "language_info": {
   "codemirror_mode": {
    "name": "ipython",
    "version": 3
   },
   "file_extension": ".py",
   "mimetype": "text/x-python",
   "name": "python",
   "nbconvert_exporter": "python",
   "pygments_lexer": "ipython3",
   "version": "3.8.5"
  }
 },
 "nbformat": 4,
 "nbformat_minor": 2
}
