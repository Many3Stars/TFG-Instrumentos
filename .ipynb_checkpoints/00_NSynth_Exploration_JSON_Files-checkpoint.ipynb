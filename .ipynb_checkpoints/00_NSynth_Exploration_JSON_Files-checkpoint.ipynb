{
 "cells": [
  {
   "cell_type": "code",
   "execution_count": 8,
   "metadata": {},
   "outputs": [],
   "source": [
    "import numpy as np\n",
    "import pandas as pd\n",
    "import matplotlib.pyplot as plt"
   ]
  },
  {
   "cell_type": "markdown",
   "metadata": {},
   "source": [
    "## Configuration parameters"
   ]
  },
  {
   "cell_type": "code",
   "execution_count": 9,
   "metadata": {},
   "outputs": [],
   "source": [
    "#Folder with the data sets\n",
    "data_dir='C:/Users/alver/Desktop/TFG/TFG2/Instrumentos/DataInput/WaveFiles/'\n",
    "#Folder to save the graphics that analyze the information in the JSON GRAPHICS\n",
    "plots_dir='C:/Users/alver/Desktop/TFG/TFG2/Instrumentos/Plots/00_JSON/'\n",
    "\n",
    "#directory to training data and json file\n",
    "train_dir=data_dir+'nsynth-train/'\n",
    "#directory to training data and json file\n",
    "valid_dir=data_dir+'nsynth-valid/'\n",
    "#directory to training data and json file\n",
    "test_dir=data_dir+'nsynth-test/'\n",
    "#Json file used to analyze the data\n",
    "filename='examples.json' #Put here the name of file (examples.json vs examplesEVA.json)\n",
    "\n",
    "#Number of elements to display in the heads\n",
    "headnumber=2"
   ]
  },
  {
   "cell_type": "markdown",
   "metadata": {},
   "source": [
    "## Load the JSON files"
   ]
  },
  {
   "cell_type": "code",
   "execution_count": 10,
   "metadata": {},
   "outputs": [
    {
     "ename": "ValueError",
     "evalue": "Expected object or value",
     "output_type": "error",
     "traceback": [
      "\u001b[1;31m---------------------------------------------------------------------------\u001b[0m",
      "\u001b[1;31mValueError\u001b[0m                                Traceback (most recent call last)",
      "\u001b[1;32m<ipython-input-10-8eee5b63f870>\u001b[0m in \u001b[0;36m<module>\u001b[1;34m\u001b[0m\n\u001b[0;32m      1\u001b[0m \u001b[1;31m#load the json files\u001b[0m\u001b[1;33m\u001b[0m\u001b[1;33m\u001b[0m\u001b[1;33m\u001b[0m\u001b[0m\n\u001b[1;32m----> 2\u001b[1;33m \u001b[0mdf_train\u001b[0m\u001b[1;33m=\u001b[0m \u001b[0mpd\u001b[0m\u001b[1;33m.\u001b[0m\u001b[0mread_json\u001b[0m\u001b[1;33m(\u001b[0m\u001b[0mtrain_dir\u001b[0m\u001b[1;33m+\u001b[0m\u001b[0mfilename\u001b[0m\u001b[1;33m,\u001b[0m \u001b[0morient\u001b[0m\u001b[1;33m=\u001b[0m\u001b[1;34m'index'\u001b[0m\u001b[1;33m)\u001b[0m\u001b[1;33m\u001b[0m\u001b[1;33m\u001b[0m\u001b[0m\n\u001b[0m\u001b[0;32m      3\u001b[0m \u001b[0mdf_valid\u001b[0m\u001b[1;33m=\u001b[0m \u001b[0mpd\u001b[0m\u001b[1;33m.\u001b[0m\u001b[0mread_json\u001b[0m\u001b[1;33m(\u001b[0m\u001b[0mvalid_dir\u001b[0m\u001b[1;33m+\u001b[0m\u001b[0mfilename\u001b[0m\u001b[1;33m,\u001b[0m \u001b[0morient\u001b[0m\u001b[1;33m=\u001b[0m\u001b[1;34m'index'\u001b[0m\u001b[1;33m)\u001b[0m\u001b[1;33m\u001b[0m\u001b[1;33m\u001b[0m\u001b[0m\n\u001b[0;32m      4\u001b[0m \u001b[0mdf_test\u001b[0m\u001b[1;33m=\u001b[0m \u001b[0mpd\u001b[0m\u001b[1;33m.\u001b[0m\u001b[0mread_json\u001b[0m\u001b[1;33m(\u001b[0m\u001b[0mtest_dir\u001b[0m\u001b[1;33m+\u001b[0m\u001b[0mfilename\u001b[0m\u001b[1;33m,\u001b[0m \u001b[0morient\u001b[0m\u001b[1;33m=\u001b[0m\u001b[1;34m'index'\u001b[0m\u001b[1;33m)\u001b[0m\u001b[1;33m\u001b[0m\u001b[1;33m\u001b[0m\u001b[0m\n",
      "\u001b[1;32m~\\anaconda3\\envs\\NSynth\\lib\\site-packages\\pandas\\util\\_decorators.py\u001b[0m in \u001b[0;36mwrapper\u001b[1;34m(*args, **kwargs)\u001b[0m\n\u001b[0;32m    197\u001b[0m                 \u001b[1;32melse\u001b[0m\u001b[1;33m:\u001b[0m\u001b[1;33m\u001b[0m\u001b[1;33m\u001b[0m\u001b[0m\n\u001b[0;32m    198\u001b[0m                     \u001b[0mkwargs\u001b[0m\u001b[1;33m[\u001b[0m\u001b[0mnew_arg_name\u001b[0m\u001b[1;33m]\u001b[0m \u001b[1;33m=\u001b[0m \u001b[0mnew_arg_value\u001b[0m\u001b[1;33m\u001b[0m\u001b[1;33m\u001b[0m\u001b[0m\n\u001b[1;32m--> 199\u001b[1;33m             \u001b[1;32mreturn\u001b[0m \u001b[0mfunc\u001b[0m\u001b[1;33m(\u001b[0m\u001b[1;33m*\u001b[0m\u001b[0margs\u001b[0m\u001b[1;33m,\u001b[0m \u001b[1;33m**\u001b[0m\u001b[0mkwargs\u001b[0m\u001b[1;33m)\u001b[0m\u001b[1;33m\u001b[0m\u001b[1;33m\u001b[0m\u001b[0m\n\u001b[0m\u001b[0;32m    200\u001b[0m \u001b[1;33m\u001b[0m\u001b[0m\n\u001b[0;32m    201\u001b[0m         \u001b[1;32mreturn\u001b[0m \u001b[0mcast\u001b[0m\u001b[1;33m(\u001b[0m\u001b[0mF\u001b[0m\u001b[1;33m,\u001b[0m \u001b[0mwrapper\u001b[0m\u001b[1;33m)\u001b[0m\u001b[1;33m\u001b[0m\u001b[1;33m\u001b[0m\u001b[0m\n",
      "\u001b[1;32m~\\anaconda3\\envs\\NSynth\\lib\\site-packages\\pandas\\util\\_decorators.py\u001b[0m in \u001b[0;36mwrapper\u001b[1;34m(*args, **kwargs)\u001b[0m\n\u001b[0;32m    294\u001b[0m                 )\n\u001b[0;32m    295\u001b[0m                 \u001b[0mwarnings\u001b[0m\u001b[1;33m.\u001b[0m\u001b[0mwarn\u001b[0m\u001b[1;33m(\u001b[0m\u001b[0mmsg\u001b[0m\u001b[1;33m,\u001b[0m \u001b[0mFutureWarning\u001b[0m\u001b[1;33m,\u001b[0m \u001b[0mstacklevel\u001b[0m\u001b[1;33m=\u001b[0m\u001b[0mstacklevel\u001b[0m\u001b[1;33m)\u001b[0m\u001b[1;33m\u001b[0m\u001b[1;33m\u001b[0m\u001b[0m\n\u001b[1;32m--> 296\u001b[1;33m             \u001b[1;32mreturn\u001b[0m \u001b[0mfunc\u001b[0m\u001b[1;33m(\u001b[0m\u001b[1;33m*\u001b[0m\u001b[0margs\u001b[0m\u001b[1;33m,\u001b[0m \u001b[1;33m**\u001b[0m\u001b[0mkwargs\u001b[0m\u001b[1;33m)\u001b[0m\u001b[1;33m\u001b[0m\u001b[1;33m\u001b[0m\u001b[0m\n\u001b[0m\u001b[0;32m    297\u001b[0m \u001b[1;33m\u001b[0m\u001b[0m\n\u001b[0;32m    298\u001b[0m         \u001b[1;32mreturn\u001b[0m \u001b[0mwrapper\u001b[0m\u001b[1;33m\u001b[0m\u001b[1;33m\u001b[0m\u001b[0m\n",
      "\u001b[1;32m~\\anaconda3\\envs\\NSynth\\lib\\site-packages\\pandas\\io\\json\\_json.py\u001b[0m in \u001b[0;36mread_json\u001b[1;34m(path_or_buf, orient, typ, dtype, convert_axes, convert_dates, keep_default_dates, numpy, precise_float, date_unit, encoding, lines, chunksize, compression, nrows)\u001b[0m\n\u001b[0;32m    616\u001b[0m         \u001b[1;32mreturn\u001b[0m \u001b[0mjson_reader\u001b[0m\u001b[1;33m\u001b[0m\u001b[1;33m\u001b[0m\u001b[0m\n\u001b[0;32m    617\u001b[0m \u001b[1;33m\u001b[0m\u001b[0m\n\u001b[1;32m--> 618\u001b[1;33m     \u001b[0mresult\u001b[0m \u001b[1;33m=\u001b[0m \u001b[0mjson_reader\u001b[0m\u001b[1;33m.\u001b[0m\u001b[0mread\u001b[0m\u001b[1;33m(\u001b[0m\u001b[1;33m)\u001b[0m\u001b[1;33m\u001b[0m\u001b[1;33m\u001b[0m\u001b[0m\n\u001b[0m\u001b[0;32m    619\u001b[0m     \u001b[1;32mif\u001b[0m \u001b[0mshould_close\u001b[0m\u001b[1;33m:\u001b[0m\u001b[1;33m\u001b[0m\u001b[1;33m\u001b[0m\u001b[0m\n\u001b[0;32m    620\u001b[0m         \u001b[0mfilepath_or_buffer\u001b[0m\u001b[1;33m.\u001b[0m\u001b[0mclose\u001b[0m\u001b[1;33m(\u001b[0m\u001b[1;33m)\u001b[0m\u001b[1;33m\u001b[0m\u001b[1;33m\u001b[0m\u001b[0m\n",
      "\u001b[1;32m~\\anaconda3\\envs\\NSynth\\lib\\site-packages\\pandas\\io\\json\\_json.py\u001b[0m in \u001b[0;36mread\u001b[1;34m(self)\u001b[0m\n\u001b[0;32m    753\u001b[0m                 \u001b[0mobj\u001b[0m \u001b[1;33m=\u001b[0m \u001b[0mself\u001b[0m\u001b[1;33m.\u001b[0m\u001b[0m_get_object_parser\u001b[0m\u001b[1;33m(\u001b[0m\u001b[0mself\u001b[0m\u001b[1;33m.\u001b[0m\u001b[0m_combine_lines\u001b[0m\u001b[1;33m(\u001b[0m\u001b[0mdata\u001b[0m\u001b[1;33m)\u001b[0m\u001b[1;33m)\u001b[0m\u001b[1;33m\u001b[0m\u001b[1;33m\u001b[0m\u001b[0m\n\u001b[0;32m    754\u001b[0m         \u001b[1;32melse\u001b[0m\u001b[1;33m:\u001b[0m\u001b[1;33m\u001b[0m\u001b[1;33m\u001b[0m\u001b[0m\n\u001b[1;32m--> 755\u001b[1;33m             \u001b[0mobj\u001b[0m \u001b[1;33m=\u001b[0m \u001b[0mself\u001b[0m\u001b[1;33m.\u001b[0m\u001b[0m_get_object_parser\u001b[0m\u001b[1;33m(\u001b[0m\u001b[0mself\u001b[0m\u001b[1;33m.\u001b[0m\u001b[0mdata\u001b[0m\u001b[1;33m)\u001b[0m\u001b[1;33m\u001b[0m\u001b[1;33m\u001b[0m\u001b[0m\n\u001b[0m\u001b[0;32m    756\u001b[0m         \u001b[0mself\u001b[0m\u001b[1;33m.\u001b[0m\u001b[0mclose\u001b[0m\u001b[1;33m(\u001b[0m\u001b[1;33m)\u001b[0m\u001b[1;33m\u001b[0m\u001b[1;33m\u001b[0m\u001b[0m\n\u001b[0;32m    757\u001b[0m         \u001b[1;32mreturn\u001b[0m \u001b[0mobj\u001b[0m\u001b[1;33m\u001b[0m\u001b[1;33m\u001b[0m\u001b[0m\n",
      "\u001b[1;32m~\\anaconda3\\envs\\NSynth\\lib\\site-packages\\pandas\\io\\json\\_json.py\u001b[0m in \u001b[0;36m_get_object_parser\u001b[1;34m(self, json)\u001b[0m\n\u001b[0;32m    775\u001b[0m         \u001b[0mobj\u001b[0m \u001b[1;33m=\u001b[0m \u001b[1;32mNone\u001b[0m\u001b[1;33m\u001b[0m\u001b[1;33m\u001b[0m\u001b[0m\n\u001b[0;32m    776\u001b[0m         \u001b[1;32mif\u001b[0m \u001b[0mtyp\u001b[0m \u001b[1;33m==\u001b[0m \u001b[1;34m\"frame\"\u001b[0m\u001b[1;33m:\u001b[0m\u001b[1;33m\u001b[0m\u001b[1;33m\u001b[0m\u001b[0m\n\u001b[1;32m--> 777\u001b[1;33m             \u001b[0mobj\u001b[0m \u001b[1;33m=\u001b[0m \u001b[0mFrameParser\u001b[0m\u001b[1;33m(\u001b[0m\u001b[0mjson\u001b[0m\u001b[1;33m,\u001b[0m \u001b[1;33m**\u001b[0m\u001b[0mkwargs\u001b[0m\u001b[1;33m)\u001b[0m\u001b[1;33m.\u001b[0m\u001b[0mparse\u001b[0m\u001b[1;33m(\u001b[0m\u001b[1;33m)\u001b[0m\u001b[1;33m\u001b[0m\u001b[1;33m\u001b[0m\u001b[0m\n\u001b[0m\u001b[0;32m    778\u001b[0m \u001b[1;33m\u001b[0m\u001b[0m\n\u001b[0;32m    779\u001b[0m         \u001b[1;32mif\u001b[0m \u001b[0mtyp\u001b[0m \u001b[1;33m==\u001b[0m \u001b[1;34m\"series\"\u001b[0m \u001b[1;32mor\u001b[0m \u001b[0mobj\u001b[0m \u001b[1;32mis\u001b[0m \u001b[1;32mNone\u001b[0m\u001b[1;33m:\u001b[0m\u001b[1;33m\u001b[0m\u001b[1;33m\u001b[0m\u001b[0m\n",
      "\u001b[1;32m~\\anaconda3\\envs\\NSynth\\lib\\site-packages\\pandas\\io\\json\\_json.py\u001b[0m in \u001b[0;36mparse\u001b[1;34m(self)\u001b[0m\n\u001b[0;32m    884\u001b[0m \u001b[1;33m\u001b[0m\u001b[0m\n\u001b[0;32m    885\u001b[0m         \u001b[1;32melse\u001b[0m\u001b[1;33m:\u001b[0m\u001b[1;33m\u001b[0m\u001b[1;33m\u001b[0m\u001b[0m\n\u001b[1;32m--> 886\u001b[1;33m             \u001b[0mself\u001b[0m\u001b[1;33m.\u001b[0m\u001b[0m_parse_no_numpy\u001b[0m\u001b[1;33m(\u001b[0m\u001b[1;33m)\u001b[0m\u001b[1;33m\u001b[0m\u001b[1;33m\u001b[0m\u001b[0m\n\u001b[0m\u001b[0;32m    887\u001b[0m \u001b[1;33m\u001b[0m\u001b[0m\n\u001b[0;32m    888\u001b[0m         \u001b[1;32mif\u001b[0m \u001b[0mself\u001b[0m\u001b[1;33m.\u001b[0m\u001b[0mobj\u001b[0m \u001b[1;32mis\u001b[0m \u001b[1;32mNone\u001b[0m\u001b[1;33m:\u001b[0m\u001b[1;33m\u001b[0m\u001b[1;33m\u001b[0m\u001b[0m\n",
      "\u001b[1;32m~\\anaconda3\\envs\\NSynth\\lib\\site-packages\\pandas\\io\\json\\_json.py\u001b[0m in \u001b[0;36m_parse_no_numpy\u001b[1;34m(self)\u001b[0m\n\u001b[0;32m   1128\u001b[0m         \u001b[1;32melif\u001b[0m \u001b[0morient\u001b[0m \u001b[1;33m==\u001b[0m \u001b[1;34m\"index\"\u001b[0m\u001b[1;33m:\u001b[0m\u001b[1;33m\u001b[0m\u001b[1;33m\u001b[0m\u001b[0m\n\u001b[0;32m   1129\u001b[0m             self.obj = DataFrame.from_dict(\n\u001b[1;32m-> 1130\u001b[1;33m                 \u001b[0mloads\u001b[0m\u001b[1;33m(\u001b[0m\u001b[0mjson\u001b[0m\u001b[1;33m,\u001b[0m \u001b[0mprecise_float\u001b[0m\u001b[1;33m=\u001b[0m\u001b[0mself\u001b[0m\u001b[1;33m.\u001b[0m\u001b[0mprecise_float\u001b[0m\u001b[1;33m)\u001b[0m\u001b[1;33m,\u001b[0m\u001b[1;33m\u001b[0m\u001b[1;33m\u001b[0m\u001b[0m\n\u001b[0m\u001b[0;32m   1131\u001b[0m                 \u001b[0mdtype\u001b[0m\u001b[1;33m=\u001b[0m\u001b[1;32mNone\u001b[0m\u001b[1;33m,\u001b[0m\u001b[1;33m\u001b[0m\u001b[1;33m\u001b[0m\u001b[0m\n\u001b[0;32m   1132\u001b[0m                 \u001b[0morient\u001b[0m\u001b[1;33m=\u001b[0m\u001b[1;34m\"index\"\u001b[0m\u001b[1;33m,\u001b[0m\u001b[1;33m\u001b[0m\u001b[1;33m\u001b[0m\u001b[0m\n",
      "\u001b[1;31mValueError\u001b[0m: Expected object or value"
     ]
    }
   ],
   "source": [
    "#load the json files\n",
    "df_train= pd.read_json(train_dir+filename, orient='index')\n",
    "df_valid= pd.read_json(valid_dir+filename, orient='index')\n",
    "df_test= pd.read_json(test_dir+filename, orient='index')\n"
   ]
  },
  {
   "cell_type": "code",
   "execution_count": 4,
   "metadata": {},
   "outputs": [
    {
     "ename": "NameError",
     "evalue": "name 'df_train' is not defined",
     "output_type": "error",
     "traceback": [
      "\u001b[1;31m---------------------------------------------------------------------------\u001b[0m",
      "\u001b[1;31mNameError\u001b[0m                                 Traceback (most recent call last)",
      "\u001b[1;32m<ipython-input-4-c6aa3137eb85>\u001b[0m in \u001b[0;36m<module>\u001b[1;34m\u001b[0m\n\u001b[1;32m----> 1\u001b[1;33m \u001b[0mdf_train\u001b[0m\u001b[1;33m.\u001b[0m\u001b[0mhead\u001b[0m\u001b[1;33m(\u001b[0m\u001b[0mheadnumber\u001b[0m\u001b[1;33m)\u001b[0m\u001b[1;33m\u001b[0m\u001b[1;33m\u001b[0m\u001b[0m\n\u001b[0m",
      "\u001b[1;31mNameError\u001b[0m: name 'df_train' is not defined"
     ]
    }
   ],
   "source": [
    "df_train.head(headnumber)"
   ]
  },
  {
   "cell_type": "code",
   "execution_count": 5,
   "metadata": {},
   "outputs": [
    {
     "data": {
      "text/plain": [
       "(289205, 13)"
      ]
     },
     "execution_count": 5,
     "metadata": {},
     "output_type": "execute_result"
    }
   ],
   "source": [
    "df_train.shape"
   ]
  },
  {
   "cell_type": "code",
   "execution_count": 6,
   "metadata": {},
   "outputs": [
    {
     "data": {
      "text/plain": [
       "note                     False\n",
       "sample_rate              False\n",
       "pitch                    False\n",
       "instrument_source        False\n",
       "instrument_family_str    False\n",
       "instrument_str           False\n",
       "note_str                 False\n",
       "qualities_str            False\n",
       "instrument_source_str    False\n",
       "velocity                 False\n",
       "instrument_family        False\n",
       "instrument               False\n",
       "qualities                False\n",
       "dtype: bool"
      ]
     },
     "execution_count": 6,
     "metadata": {},
     "output_type": "execute_result"
    }
   ],
   "source": [
    "#check for missing values\n",
    "df_train.isna().any(axis=0)"
   ]
  },
  {
   "cell_type": "code",
   "execution_count": 7,
   "metadata": {},
   "outputs": [
    {
     "data": {
      "text/html": [
       "<div>\n",
       "<style scoped>\n",
       "    .dataframe tbody tr th:only-of-type {\n",
       "        vertical-align: middle;\n",
       "    }\n",
       "\n",
       "    .dataframe tbody tr th {\n",
       "        vertical-align: top;\n",
       "    }\n",
       "\n",
       "    .dataframe thead th {\n",
       "        text-align: right;\n",
       "    }\n",
       "</style>\n",
       "<table border=\"1\" class=\"dataframe\">\n",
       "  <thead>\n",
       "    <tr style=\"text-align: right;\">\n",
       "      <th></th>\n",
       "      <th>note_str</th>\n",
       "      <th>sample_rate</th>\n",
       "      <th>qualities_str</th>\n",
       "      <th>instrument_source</th>\n",
       "      <th>instrument_family_str</th>\n",
       "      <th>instrument_family</th>\n",
       "      <th>note</th>\n",
       "      <th>instrument_source_str</th>\n",
       "      <th>qualities</th>\n",
       "      <th>pitch</th>\n",
       "      <th>instrument_str</th>\n",
       "      <th>instrument</th>\n",
       "      <th>velocity</th>\n",
       "    </tr>\n",
       "  </thead>\n",
       "  <tbody>\n",
       "    <tr>\n",
       "      <th>keyboard_acoustic_004-060-025</th>\n",
       "      <td>keyboard_acoustic_004-060-025</td>\n",
       "      <td>16000</td>\n",
       "      <td>[dark, reverb]</td>\n",
       "      <td>0</td>\n",
       "      <td>keyboard</td>\n",
       "      <td>4</td>\n",
       "      <td>278915</td>\n",
       "      <td>acoustic</td>\n",
       "      <td>[0, 1, 0, 0, 0, 0, 0, 0, 1, 0]</td>\n",
       "      <td>60</td>\n",
       "      <td>keyboard_acoustic_004</td>\n",
       "      <td>327</td>\n",
       "      <td>25</td>\n",
       "    </tr>\n",
       "    <tr>\n",
       "      <th>bass_synthetic_033-050-100</th>\n",
       "      <td>bass_synthetic_033-050-100</td>\n",
       "      <td>16000</td>\n",
       "      <td>[dark]</td>\n",
       "      <td>2</td>\n",
       "      <td>bass</td>\n",
       "      <td>0</td>\n",
       "      <td>270361</td>\n",
       "      <td>synthetic</td>\n",
       "      <td>[0, 1, 0, 0, 0, 0, 0, 0, 0, 0]</td>\n",
       "      <td>50</td>\n",
       "      <td>bass_synthetic_033</td>\n",
       "      <td>417</td>\n",
       "      <td>100</td>\n",
       "    </tr>\n",
       "  </tbody>\n",
       "</table>\n",
       "</div>"
      ],
      "text/plain": [
       "                                                    note_str  sample_rate  \\\n",
       "keyboard_acoustic_004-060-025  keyboard_acoustic_004-060-025        16000   \n",
       "bass_synthetic_033-050-100        bass_synthetic_033-050-100        16000   \n",
       "\n",
       "                                qualities_str  instrument_source  \\\n",
       "keyboard_acoustic_004-060-025  [dark, reverb]                  0   \n",
       "bass_synthetic_033-050-100             [dark]                  2   \n",
       "\n",
       "                              instrument_family_str  instrument_family  \\\n",
       "keyboard_acoustic_004-060-025              keyboard                  4   \n",
       "bass_synthetic_033-050-100                     bass                  0   \n",
       "\n",
       "                                 note instrument_source_str  \\\n",
       "keyboard_acoustic_004-060-025  278915              acoustic   \n",
       "bass_synthetic_033-050-100     270361             synthetic   \n",
       "\n",
       "                                                    qualities  pitch  \\\n",
       "keyboard_acoustic_004-060-025  [0, 1, 0, 0, 0, 0, 0, 0, 1, 0]     60   \n",
       "bass_synthetic_033-050-100     [0, 1, 0, 0, 0, 0, 0, 0, 0, 0]     50   \n",
       "\n",
       "                                      instrument_str  instrument  velocity  \n",
       "keyboard_acoustic_004-060-025  keyboard_acoustic_004         327        25  \n",
       "bass_synthetic_033-050-100        bass_synthetic_033         417       100  "
      ]
     },
     "execution_count": 7,
     "metadata": {},
     "output_type": "execute_result"
    }
   ],
   "source": [
    "df_valid.head(2)"
   ]
  },
  {
   "cell_type": "code",
   "execution_count": 8,
   "metadata": {},
   "outputs": [
    {
     "data": {
      "text/plain": [
       "(3, 13)"
      ]
     },
     "execution_count": 8,
     "metadata": {},
     "output_type": "execute_result"
    }
   ],
   "source": [
    "df_valid.shape"
   ]
  },
  {
   "cell_type": "code",
   "execution_count": 9,
   "metadata": {},
   "outputs": [
    {
     "data": {
      "text/plain": [
       "note_str                 False\n",
       "sample_rate              False\n",
       "qualities_str            False\n",
       "instrument_source        False\n",
       "instrument_family_str    False\n",
       "instrument_family        False\n",
       "note                     False\n",
       "instrument_source_str    False\n",
       "qualities                False\n",
       "pitch                    False\n",
       "instrument_str           False\n",
       "instrument               False\n",
       "velocity                 False\n",
       "dtype: bool"
      ]
     },
     "execution_count": 9,
     "metadata": {},
     "output_type": "execute_result"
    }
   ],
   "source": [
    "#check for missing values\n",
    "df_valid.isna().any(axis=0)"
   ]
  },
  {
   "cell_type": "code",
   "execution_count": 10,
   "metadata": {},
   "outputs": [
    {
     "data": {
      "text/html": [
       "<div>\n",
       "<style scoped>\n",
       "    .dataframe tbody tr th:only-of-type {\n",
       "        vertical-align: middle;\n",
       "    }\n",
       "\n",
       "    .dataframe tbody tr th {\n",
       "        vertical-align: top;\n",
       "    }\n",
       "\n",
       "    .dataframe thead th {\n",
       "        text-align: right;\n",
       "    }\n",
       "</style>\n",
       "<table border=\"1\" class=\"dataframe\">\n",
       "  <thead>\n",
       "    <tr style=\"text-align: right;\">\n",
       "      <th></th>\n",
       "      <th>qualities</th>\n",
       "      <th>pitch</th>\n",
       "      <th>note</th>\n",
       "      <th>instrument_source_str</th>\n",
       "      <th>velocity</th>\n",
       "      <th>instrument_str</th>\n",
       "      <th>instrument</th>\n",
       "      <th>sample_rate</th>\n",
       "      <th>qualities_str</th>\n",
       "      <th>instrument_source</th>\n",
       "      <th>note_str</th>\n",
       "      <th>instrument_family</th>\n",
       "      <th>instrument_family_str</th>\n",
       "    </tr>\n",
       "  </thead>\n",
       "  <tbody>\n",
       "    <tr>\n",
       "      <th>bass_synthetic_068-049-025</th>\n",
       "      <td>[0, 1, 0, 0, 0, 0, 0, 0, 0, 0]</td>\n",
       "      <td>49</td>\n",
       "      <td>217499</td>\n",
       "      <td>synthetic</td>\n",
       "      <td>25</td>\n",
       "      <td>bass_synthetic_068</td>\n",
       "      <td>656</td>\n",
       "      <td>16000</td>\n",
       "      <td>[dark]</td>\n",
       "      <td>2</td>\n",
       "      <td>bass_synthetic_068-049-025</td>\n",
       "      <td>0</td>\n",
       "      <td>bass</td>\n",
       "    </tr>\n",
       "    <tr>\n",
       "      <th>keyboard_electronic_001-021-127</th>\n",
       "      <td>[0, 0, 0, 0, 0, 0, 0, 0, 0, 0]</td>\n",
       "      <td>21</td>\n",
       "      <td>299359</td>\n",
       "      <td>electronic</td>\n",
       "      <td>127</td>\n",
       "      <td>keyboard_electronic_001</td>\n",
       "      <td>40</td>\n",
       "      <td>16000</td>\n",
       "      <td>[]</td>\n",
       "      <td>1</td>\n",
       "      <td>keyboard_electronic_001-021-127</td>\n",
       "      <td>4</td>\n",
       "      <td>keyboard</td>\n",
       "    </tr>\n",
       "  </tbody>\n",
       "</table>\n",
       "</div>"
      ],
      "text/plain": [
       "                                                      qualities  pitch  \\\n",
       "bass_synthetic_068-049-025       [0, 1, 0, 0, 0, 0, 0, 0, 0, 0]     49   \n",
       "keyboard_electronic_001-021-127  [0, 0, 0, 0, 0, 0, 0, 0, 0, 0]     21   \n",
       "\n",
       "                                   note instrument_source_str  velocity  \\\n",
       "bass_synthetic_068-049-025       217499             synthetic        25   \n",
       "keyboard_electronic_001-021-127  299359            electronic       127   \n",
       "\n",
       "                                          instrument_str  instrument  \\\n",
       "bass_synthetic_068-049-025            bass_synthetic_068         656   \n",
       "keyboard_electronic_001-021-127  keyboard_electronic_001          40   \n",
       "\n",
       "                                 sample_rate qualities_str  instrument_source  \\\n",
       "bass_synthetic_068-049-025             16000        [dark]                  2   \n",
       "keyboard_electronic_001-021-127        16000            []                  1   \n",
       "\n",
       "                                                        note_str  \\\n",
       "bass_synthetic_068-049-025            bass_synthetic_068-049-025   \n",
       "keyboard_electronic_001-021-127  keyboard_electronic_001-021-127   \n",
       "\n",
       "                                 instrument_family instrument_family_str  \n",
       "bass_synthetic_068-049-025                       0                  bass  \n",
       "keyboard_electronic_001-021-127                  4              keyboard  "
      ]
     },
     "execution_count": 10,
     "metadata": {},
     "output_type": "execute_result"
    }
   ],
   "source": [
    "df_test.head(headnumber)"
   ]
  },
  {
   "cell_type": "code",
   "execution_count": 11,
   "metadata": {},
   "outputs": [
    {
     "data": {
      "text/plain": [
       "(7, 13)"
      ]
     },
     "execution_count": 11,
     "metadata": {},
     "output_type": "execute_result"
    }
   ],
   "source": [
    "df_test.shape"
   ]
  },
  {
   "cell_type": "code",
   "execution_count": 12,
   "metadata": {},
   "outputs": [
    {
     "data": {
      "text/plain": [
       "qualities                False\n",
       "pitch                    False\n",
       "note                     False\n",
       "instrument_source_str    False\n",
       "velocity                 False\n",
       "instrument_str           False\n",
       "instrument               False\n",
       "sample_rate              False\n",
       "qualities_str            False\n",
       "instrument_source        False\n",
       "note_str                 False\n",
       "instrument_family        False\n",
       "instrument_family_str    False\n",
       "dtype: bool"
      ]
     },
     "execution_count": 12,
     "metadata": {},
     "output_type": "execute_result"
    }
   ],
   "source": [
    "#check for missing values\n",
    "df_test.isna().any(axis=0)"
   ]
  },
  {
   "cell_type": "code",
   "execution_count": 13,
   "metadata": {},
   "outputs": [],
   "source": [
    "assert df_train['sample_rate'].unique()==df_valid['sample_rate'].unique() == df_test['sample_rate'].unique()"
   ]
  },
  {
   "cell_type": "markdown",
   "metadata": {},
   "source": [
    "## Feature Distribution"
   ]
  },
  {
   "cell_type": "markdown",
   "metadata": {},
   "source": [
    "### Instrument Families"
   ]
  },
  {
   "cell_type": "code",
   "execution_count": 14,
   "metadata": {},
   "outputs": [
    {
     "data": {
      "image/png": "[encoded data removed]",
      "text/plain": [
       "<Figure size 360x216 with 1 Axes>"
      ]
     },
     "metadata": {
      "needs_background": "light"
     },
     "output_type": "display_data"
    }
   ],
   "source": [
    "df_train['instrument_family'].value_counts().reindex(np.arange(0,11, 1)).plot(kind='bar', figsize=(5,3))\n",
    "plt.title(\"Instrument Family Distribution for Training\")\n",
    "plt.xlabel(\"Instrumet Family\")\n",
    "plt.ylabel(\"Count\")\n",
    "plt.tight_layout()\n",
    "plt.savefig(plots_dir+\"dist_train.png\")\n",
    "plt.show()"
   ]
  },
  {
   "cell_type": "code",
   "execution_count": 15,
   "metadata": {},
   "outputs": [
    {
     "data": {
      "image/png": "[encoded data removed]",
      "text/plain": [
       "<Figure size 360x216 with 1 Axes>"
      ]
     },
     "metadata": {
      "needs_background": "light"
     },
     "output_type": "display_data"
    }
   ],
   "source": [
    "df_valid['instrument_family'].value_counts().reindex(np.arange(0,11, 1)).plot(kind='bar', figsize=(5,3))\n",
    "plt.title(\"Instrument Family Distribution for Validation\")\n",
    "plt.xlabel(\"Instrumet Family\")\n",
    "plt.ylabel(\"Count\")\n",
    "plt.tight_layout()\n",
    "plt.savefig(plots_dir+\"dist_valid.png\")\n",
    "plt.show()"
   ]
  },
  {
   "cell_type": "code",
   "execution_count": 16,
   "metadata": {},
   "outputs": [
    {
     "data": {
      "image/png": "[encoded data removed]",
      "text/plain": [
       "<Figure size 360x216 with 1 Axes>"
      ]
     },
     "metadata": {
      "needs_background": "light"
     },
     "output_type": "display_data"
    }
   ],
   "source": [
    "df_test['instrument_family'].value_counts().reindex(np.arange(0,11, 1)).plot(kind='bar', figsize=(5,3))\n",
    "plt.title(\"Instrument Family Distribution for Test\")\n",
    "plt.xlabel(\"Instrumet Family\")\n",
    "plt.ylabel(\"Count\")\n",
    "plt.tight_layout()\n",
    "plt.savefig(plots_dir+\"dist_test.png\")\n",
    "plt.show()"
   ]
  },
  {
   "cell_type": "markdown",
   "metadata": {},
   "source": [
    "### Source"
   ]
  },
  {
   "cell_type": "code",
   "execution_count": 17,
   "metadata": {},
   "outputs": [
    {
     "data": {
      "image/png": "[encoded data removed]",
      "text/plain": [
       "<Figure size 360x216 with 1 Axes>"
      ]
     },
     "metadata": {
      "needs_background": "light"
     },
     "output_type": "display_data"
    }
   ],
   "source": [
    "df_train['instrument_source'].value_counts().reindex(np.arange(0,3, 1)).plot(kind='bar', figsize=(5,3))\n",
    "plt.title(\"Source Distribution for Training\")\n",
    "plt.xlabel(\"Instrumet Source\")\n",
    "plt.ylabel(\"Count\")\n",
    "plt.tight_layout()\n",
    "plt.savefig(plots_dir+\"source_train.png\")\n",
    "plt.show()"
   ]
  },
  {
   "cell_type": "code",
   "execution_count": 18,
   "metadata": {},
   "outputs": [
    {
     "data": {
      "image/png": "[encoded data removed]",
      "text/plain": [
       "<Figure size 360x216 with 1 Axes>"
      ]
     },
     "metadata": {
      "needs_background": "light"
     },
     "output_type": "display_data"
    }
   ],
   "source": [
    "df_valid['instrument_source'].value_counts().reindex(np.arange(0,3, 1)).plot(kind='bar', figsize=(5,3))\n",
    "plt.title(\"Source Distribution for Validation\")\n",
    "plt.xlabel(\"Instrumet Source\")\n",
    "plt.ylabel(\"Count\")\n",
    "plt.tight_layout()\n",
    "plt.savefig(plots_dir+\"source_valid.png\")\n",
    "plt.show()"
   ]
  },
  {
   "cell_type": "code",
   "execution_count": 19,
   "metadata": {},
   "outputs": [
    {
     "data": {
      "image/png": "[encoded data removed]",
      "text/plain": [
       "<Figure size 360x216 with 1 Axes>"
      ]
     },
     "metadata": {
      "needs_background": "light"
     },
     "output_type": "display_data"
    }
   ],
   "source": [
    "df_test['instrument_source'].value_counts().reindex(np.arange(0,3, 1)).plot(kind='bar', figsize=(5,3))\n",
    "plt.title(\"Source Distribution for Testing\")\n",
    "plt.xlabel(\"Instrumet Source\")\n",
    "plt.ylabel(\"Count\")\n",
    "plt.savefig(plots_dir+\"source_test.png\")\n",
    "plt.show()"
   ]
  },
  {
   "cell_type": "markdown",
   "metadata": {},
   "source": [
    "### Statistics"
   ]
  },
  {
   "cell_type": "code",
   "execution_count": 20,
   "metadata": {},
   "outputs": [
    {
     "data": {
      "text/html": [
       "<div>\n",
       "<style scoped>\n",
       "    .dataframe tbody tr th:only-of-type {\n",
       "        vertical-align: middle;\n",
       "    }\n",
       "\n",
       "    .dataframe tbody tr th {\n",
       "        vertical-align: top;\n",
       "    }\n",
       "\n",
       "    .dataframe thead th {\n",
       "        text-align: right;\n",
       "    }\n",
       "</style>\n",
       "<table border=\"1\" class=\"dataframe\">\n",
       "  <thead>\n",
       "    <tr style=\"text-align: right;\">\n",
       "      <th></th>\n",
       "      <th>note</th>\n",
       "      <th>sample_rate</th>\n",
       "      <th>pitch</th>\n",
       "      <th>instrument_source</th>\n",
       "      <th>velocity</th>\n",
       "      <th>instrument_family</th>\n",
       "      <th>instrument</th>\n",
       "    </tr>\n",
       "  </thead>\n",
       "  <tbody>\n",
       "    <tr>\n",
       "      <th>count</th>\n",
       "      <td>289205.000000</td>\n",
       "      <td>289205.0</td>\n",
       "      <td>289205.000000</td>\n",
       "      <td>289205.000000</td>\n",
       "      <td>289205.000000</td>\n",
       "      <td>289205.000000</td>\n",
       "      <td>289205.000000</td>\n",
       "    </tr>\n",
       "    <tr>\n",
       "      <th>mean</th>\n",
       "      <td>153095.048277</td>\n",
       "      <td>16000.0</td>\n",
       "      <td>62.311658</td>\n",
       "      <td>0.932370</td>\n",
       "      <td>76.172504</td>\n",
       "      <td>3.866462</td>\n",
       "      <td>490.943127</td>\n",
       "    </tr>\n",
       "    <tr>\n",
       "      <th>std</th>\n",
       "      <td>88232.549732</td>\n",
       "      <td>0.0</td>\n",
       "      <td>23.082522</td>\n",
       "      <td>0.796443</td>\n",
       "      <td>36.181410</td>\n",
       "      <td>2.843398</td>\n",
       "      <td>280.813189</td>\n",
       "    </tr>\n",
       "    <tr>\n",
       "      <th>min</th>\n",
       "      <td>0.000000</td>\n",
       "      <td>16000.0</td>\n",
       "      <td>9.000000</td>\n",
       "      <td>0.000000</td>\n",
       "      <td>25.000000</td>\n",
       "      <td>0.000000</td>\n",
       "      <td>0.000000</td>\n",
       "    </tr>\n",
       "    <tr>\n",
       "      <th>25%</th>\n",
       "      <td>76755.000000</td>\n",
       "      <td>16000.0</td>\n",
       "      <td>44.000000</td>\n",
       "      <td>0.000000</td>\n",
       "      <td>50.000000</td>\n",
       "      <td>1.000000</td>\n",
       "      <td>247.000000</td>\n",
       "    </tr>\n",
       "    <tr>\n",
       "      <th>50%</th>\n",
       "      <td>153254.000000</td>\n",
       "      <td>16000.0</td>\n",
       "      <td>62.000000</td>\n",
       "      <td>1.000000</td>\n",
       "      <td>75.000000</td>\n",
       "      <td>4.000000</td>\n",
       "      <td>499.000000</td>\n",
       "    </tr>\n",
       "    <tr>\n",
       "      <th>75%</th>\n",
       "      <td>229461.000000</td>\n",
       "      <td>16000.0</td>\n",
       "      <td>80.000000</td>\n",
       "      <td>2.000000</td>\n",
       "      <td>100.000000</td>\n",
       "      <td>6.000000</td>\n",
       "      <td>732.000000</td>\n",
       "    </tr>\n",
       "    <tr>\n",
       "      <th>max</th>\n",
       "      <td>305978.000000</td>\n",
       "      <td>16000.0</td>\n",
       "      <td>120.000000</td>\n",
       "      <td>2.000000</td>\n",
       "      <td>127.000000</td>\n",
       "      <td>10.000000</td>\n",
       "      <td>1005.000000</td>\n",
       "    </tr>\n",
       "  </tbody>\n",
       "</table>\n",
       "</div>"
      ],
      "text/plain": [
       "                note  sample_rate          pitch  instrument_source  \\\n",
       "count  289205.000000     289205.0  289205.000000      289205.000000   \n",
       "mean   153095.048277      16000.0      62.311658           0.932370   \n",
       "std     88232.549732          0.0      23.082522           0.796443   \n",
       "min         0.000000      16000.0       9.000000           0.000000   \n",
       "25%     76755.000000      16000.0      44.000000           0.000000   \n",
       "50%    153254.000000      16000.0      62.000000           1.000000   \n",
       "75%    229461.000000      16000.0      80.000000           2.000000   \n",
       "max    305978.000000      16000.0     120.000000           2.000000   \n",
       "\n",
       "            velocity  instrument_family     instrument  \n",
       "count  289205.000000      289205.000000  289205.000000  \n",
       "mean       76.172504           3.866462     490.943127  \n",
       "std        36.181410           2.843398     280.813189  \n",
       "min        25.000000           0.000000       0.000000  \n",
       "25%        50.000000           1.000000     247.000000  \n",
       "50%        75.000000           4.000000     499.000000  \n",
       "75%       100.000000           6.000000     732.000000  \n",
       "max       127.000000          10.000000    1005.000000  "
      ]
     },
     "execution_count": 20,
     "metadata": {},
     "output_type": "execute_result"
    }
   ],
   "source": [
    "df_train.describe()"
   ]
  },
  {
   "cell_type": "code",
   "execution_count": 21,
   "metadata": {},
   "outputs": [
    {
     "data": {
      "text/html": [
       "<div>\n",
       "<style scoped>\n",
       "    .dataframe tbody tr th:only-of-type {\n",
       "        vertical-align: middle;\n",
       "    }\n",
       "\n",
       "    .dataframe tbody tr th {\n",
       "        vertical-align: top;\n",
       "    }\n",
       "\n",
       "    .dataframe thead th {\n",
       "        text-align: right;\n",
       "    }\n",
       "</style>\n",
       "<table border=\"1\" class=\"dataframe\">\n",
       "  <thead>\n",
       "    <tr style=\"text-align: right;\">\n",
       "      <th></th>\n",
       "      <th>sample_rate</th>\n",
       "      <th>instrument_source</th>\n",
       "      <th>instrument_family</th>\n",
       "      <th>note</th>\n",
       "      <th>pitch</th>\n",
       "      <th>instrument</th>\n",
       "      <th>velocity</th>\n",
       "    </tr>\n",
       "  </thead>\n",
       "  <tbody>\n",
       "    <tr>\n",
       "      <th>count</th>\n",
       "      <td>3.0</td>\n",
       "      <td>3.000000</td>\n",
       "      <td>3.000000</td>\n",
       "      <td>3.000000</td>\n",
       "      <td>3.000000</td>\n",
       "      <td>3.00000</td>\n",
       "      <td>3.000000</td>\n",
       "    </tr>\n",
       "    <tr>\n",
       "      <th>mean</th>\n",
       "      <td>16000.0</td>\n",
       "      <td>1.333333</td>\n",
       "      <td>1.333333</td>\n",
       "      <td>273092.333333</td>\n",
       "      <td>54.000000</td>\n",
       "      <td>298.00000</td>\n",
       "      <td>58.333333</td>\n",
       "    </tr>\n",
       "    <tr>\n",
       "      <th>std</th>\n",
       "      <td>0.0</td>\n",
       "      <td>1.154701</td>\n",
       "      <td>2.309401</td>\n",
       "      <td>5045.788871</td>\n",
       "      <td>5.291503</td>\n",
       "      <td>135.84182</td>\n",
       "      <td>38.188131</td>\n",
       "    </tr>\n",
       "    <tr>\n",
       "      <th>min</th>\n",
       "      <td>16000.0</td>\n",
       "      <td>0.000000</td>\n",
       "      <td>0.000000</td>\n",
       "      <td>270001.000000</td>\n",
       "      <td>50.000000</td>\n",
       "      <td>150.00000</td>\n",
       "      <td>25.000000</td>\n",
       "    </tr>\n",
       "    <tr>\n",
       "      <th>25%</th>\n",
       "      <td>16000.0</td>\n",
       "      <td>1.000000</td>\n",
       "      <td>0.000000</td>\n",
       "      <td>270181.000000</td>\n",
       "      <td>51.000000</td>\n",
       "      <td>238.50000</td>\n",
       "      <td>37.500000</td>\n",
       "    </tr>\n",
       "    <tr>\n",
       "      <th>50%</th>\n",
       "      <td>16000.0</td>\n",
       "      <td>2.000000</td>\n",
       "      <td>0.000000</td>\n",
       "      <td>270361.000000</td>\n",
       "      <td>52.000000</td>\n",
       "      <td>327.00000</td>\n",
       "      <td>50.000000</td>\n",
       "    </tr>\n",
       "    <tr>\n",
       "      <th>75%</th>\n",
       "      <td>16000.0</td>\n",
       "      <td>2.000000</td>\n",
       "      <td>2.000000</td>\n",
       "      <td>274638.000000</td>\n",
       "      <td>56.000000</td>\n",
       "      <td>372.00000</td>\n",
       "      <td>75.000000</td>\n",
       "    </tr>\n",
       "    <tr>\n",
       "      <th>max</th>\n",
       "      <td>16000.0</td>\n",
       "      <td>2.000000</td>\n",
       "      <td>4.000000</td>\n",
       "      <td>278915.000000</td>\n",
       "      <td>60.000000</td>\n",
       "      <td>417.00000</td>\n",
       "      <td>100.000000</td>\n",
       "    </tr>\n",
       "  </tbody>\n",
       "</table>\n",
       "</div>"
      ],
      "text/plain": [
       "       sample_rate  instrument_source  instrument_family           note  \\\n",
       "count          3.0           3.000000           3.000000       3.000000   \n",
       "mean       16000.0           1.333333           1.333333  273092.333333   \n",
       "std            0.0           1.154701           2.309401    5045.788871   \n",
       "min        16000.0           0.000000           0.000000  270001.000000   \n",
       "25%        16000.0           1.000000           0.000000  270181.000000   \n",
       "50%        16000.0           2.000000           0.000000  270361.000000   \n",
       "75%        16000.0           2.000000           2.000000  274638.000000   \n",
       "max        16000.0           2.000000           4.000000  278915.000000   \n",
       "\n",
       "           pitch  instrument    velocity  \n",
       "count   3.000000     3.00000    3.000000  \n",
       "mean   54.000000   298.00000   58.333333  \n",
       "std     5.291503   135.84182   38.188131  \n",
       "min    50.000000   150.00000   25.000000  \n",
       "25%    51.000000   238.50000   37.500000  \n",
       "50%    52.000000   327.00000   50.000000  \n",
       "75%    56.000000   372.00000   75.000000  \n",
       "max    60.000000   417.00000  100.000000  "
      ]
     },
     "execution_count": 21,
     "metadata": {},
     "output_type": "execute_result"
    }
   ],
   "source": [
    "df_valid.describe()"
   ]
  },
  {
   "cell_type": "code",
   "execution_count": 22,
   "metadata": {},
   "outputs": [
    {
     "data": {
      "text/html": [
       "<div>\n",
       "<style scoped>\n",
       "    .dataframe tbody tr th:only-of-type {\n",
       "        vertical-align: middle;\n",
       "    }\n",
       "\n",
       "    .dataframe tbody tr th {\n",
       "        vertical-align: top;\n",
       "    }\n",
       "\n",
       "    .dataframe thead th {\n",
       "        text-align: right;\n",
       "    }\n",
       "</style>\n",
       "<table border=\"1\" class=\"dataframe\">\n",
       "  <thead>\n",
       "    <tr style=\"text-align: right;\">\n",
       "      <th></th>\n",
       "      <th>pitch</th>\n",
       "      <th>note</th>\n",
       "      <th>velocity</th>\n",
       "      <th>instrument</th>\n",
       "      <th>sample_rate</th>\n",
       "      <th>instrument_source</th>\n",
       "      <th>instrument_family</th>\n",
       "    </tr>\n",
       "  </thead>\n",
       "  <tbody>\n",
       "    <tr>\n",
       "      <th>count</th>\n",
       "      <td>7.000000</td>\n",
       "      <td>7.000000</td>\n",
       "      <td>7.000000</td>\n",
       "      <td>7.000000</td>\n",
       "      <td>7.0</td>\n",
       "      <td>7.000000</td>\n",
       "      <td>7.000000</td>\n",
       "    </tr>\n",
       "    <tr>\n",
       "      <th>mean</th>\n",
       "      <td>59.428571</td>\n",
       "      <td>107367.857143</td>\n",
       "      <td>82.714286</td>\n",
       "      <td>265.857143</td>\n",
       "      <td>16000.0</td>\n",
       "      <td>0.714286</td>\n",
       "      <td>4.857143</td>\n",
       "    </tr>\n",
       "    <tr>\n",
       "      <th>std</th>\n",
       "      <td>22.292429</td>\n",
       "      <td>107787.205070</td>\n",
       "      <td>43.284771</td>\n",
       "      <td>235.855484</td>\n",
       "      <td>0.0</td>\n",
       "      <td>0.951190</td>\n",
       "      <td>3.579040</td>\n",
       "    </tr>\n",
       "    <tr>\n",
       "      <th>min</th>\n",
       "      <td>21.000000</td>\n",
       "      <td>22259.000000</td>\n",
       "      <td>25.000000</td>\n",
       "      <td>37.000000</td>\n",
       "      <td>16000.0</td>\n",
       "      <td>0.000000</td>\n",
       "      <td>0.000000</td>\n",
       "    </tr>\n",
       "    <tr>\n",
       "      <th>25%</th>\n",
       "      <td>48.000000</td>\n",
       "      <td>34084.500000</td>\n",
       "      <td>50.000000</td>\n",
       "      <td>63.000000</td>\n",
       "      <td>16000.0</td>\n",
       "      <td>0.000000</td>\n",
       "      <td>2.500000</td>\n",
       "    </tr>\n",
       "    <tr>\n",
       "      <th>50%</th>\n",
       "      <td>66.000000</td>\n",
       "      <td>72001.000000</td>\n",
       "      <td>100.000000</td>\n",
       "      <td>219.000000</td>\n",
       "      <td>16000.0</td>\n",
       "      <td>0.000000</td>\n",
       "      <td>4.000000</td>\n",
       "    </tr>\n",
       "    <tr>\n",
       "      <th>75%</th>\n",
       "      <td>72.500000</td>\n",
       "      <td>144893.500000</td>\n",
       "      <td>113.500000</td>\n",
       "      <td>411.500000</td>\n",
       "      <td>16000.0</td>\n",
       "      <td>1.500000</td>\n",
       "      <td>7.500000</td>\n",
       "    </tr>\n",
       "    <tr>\n",
       "      <th>max</th>\n",
       "      <td>88.000000</td>\n",
       "      <td>299359.000000</td>\n",
       "      <td>127.000000</td>\n",
       "      <td>656.000000</td>\n",
       "      <td>16000.0</td>\n",
       "      <td>2.000000</td>\n",
       "      <td>10.000000</td>\n",
       "    </tr>\n",
       "  </tbody>\n",
       "</table>\n",
       "</div>"
      ],
      "text/plain": [
       "           pitch           note    velocity  instrument  sample_rate  \\\n",
       "count   7.000000       7.000000    7.000000    7.000000          7.0   \n",
       "mean   59.428571  107367.857143   82.714286  265.857143      16000.0   \n",
       "std    22.292429  107787.205070   43.284771  235.855484          0.0   \n",
       "min    21.000000   22259.000000   25.000000   37.000000      16000.0   \n",
       "25%    48.000000   34084.500000   50.000000   63.000000      16000.0   \n",
       "50%    66.000000   72001.000000  100.000000  219.000000      16000.0   \n",
       "75%    72.500000  144893.500000  113.500000  411.500000      16000.0   \n",
       "max    88.000000  299359.000000  127.000000  656.000000      16000.0   \n",
       "\n",
       "       instrument_source  instrument_family  \n",
       "count           7.000000           7.000000  \n",
       "mean            0.714286           4.857143  \n",
       "std             0.951190           3.579040  \n",
       "min             0.000000           0.000000  \n",
       "25%             0.000000           2.500000  \n",
       "50%             0.000000           4.000000  \n",
       "75%             1.500000           7.500000  \n",
       "max             2.000000          10.000000  "
      ]
     },
     "execution_count": 22,
     "metadata": {},
     "output_type": "execute_result"
    }
   ],
   "source": [
    "df_test.describe()"
   ]
  },
  {
   "cell_type": "markdown",
   "metadata": {},
   "source": [
    "### Velocity"
   ]
  },
  {
   "cell_type": "code",
   "execution_count": 23,
   "metadata": {},
   "outputs": [
    {
     "data": {
      "image/png": "[encoded data removed]",
      "text/plain": [
       "<Figure size 360x288 with 1 Axes>"
      ]
     },
     "metadata": {
      "needs_background": "light"
     },
     "output_type": "display_data"
    }
   ],
   "source": [
    "#display source disribution\n",
    "df_train['velocity'].value_counts(ascending=True).plot(kind='bar', figsize=(5,4), sort_columns=True)\n",
    "plt.title(\"Instrument Velocity: Training\")\n",
    "plt.xlabel(\"MIDI velocity\")\n",
    "plt.tight_layout()\n",
    "plt.savefig(plots_dir+'velo_train')\n",
    "plt.show()"
   ]
  },
  {
   "cell_type": "code",
   "execution_count": 24,
   "metadata": {},
   "outputs": [
    {
     "data": {
      "image/png": "[encoded data removed]",
      "text/plain": [
       "<Figure size 360x288 with 1 Axes>"
      ]
     },
     "metadata": {
      "needs_background": "light"
     },
     "output_type": "display_data"
    }
   ],
   "source": [
    "#display source disribution\n",
    "df_valid['velocity'].value_counts(ascending=True).plot(kind='bar', figsize=(5,4), sort_columns=True)\n",
    "plt.title(\"Instrument Velocity: Validation\")\n",
    "plt.xlabel(\"MIDI velocity\")\n",
    "plt.tight_layout()\n",
    "plt.savefig(plots_dir+'velo_valid')\n",
    "plt.show()"
   ]
  },
  {
   "cell_type": "code",
   "execution_count": 25,
   "metadata": {},
   "outputs": [
    {
     "data": {
      "image/png": "[encoded data removed]",
      "text/plain": [
       "<Figure size 360x288 with 1 Axes>"
      ]
     },
     "metadata": {
      "needs_background": "light"
     },
     "output_type": "display_data"
    }
   ],
   "source": [
    "#display source disribution\n",
    "df_test['velocity'].value_counts(ascending=True).plot(kind='bar', figsize=(5,4), sort_columns=True)\n",
    "plt.title(\"Instrument Velocity: Testing\")\n",
    "plt.xlabel(\"MIDI velocity\")\n",
    "plt.tight_layout()\n",
    "plt.savefig(plots_dir+'velo_test')\n",
    "plt.show()"
   ]
  },
  {
   "cell_type": "markdown",
   "metadata": {},
   "source": [
    "### Pitch"
   ]
  },
  {
   "cell_type": "code",
   "execution_count": 26,
   "metadata": {},
   "outputs": [
    {
     "data": {
      "image/png": "[encoded data removed]",
      "text/plain": [
       "<Figure size 432x216 with 1 Axes>"
      ]
     },
     "metadata": {
      "needs_background": "light"
     },
     "output_type": "display_data"
    }
   ],
   "source": [
    "df_train.hist(column='pitch', grid=False, bins=127,figsize=(6,3))\n",
    "plt.title(\"Pitch Distribution: Training\")\n",
    "plt.ylabel(\"Count\")\n",
    "plt.xlabel(\"MIDI Pitch\")\n",
    "plt.tight_layout()\n",
    "plt.savefig(plots_dir+\"pitch_train\")"
   ]
  },
  {
   "cell_type": "code",
   "execution_count": 27,
   "metadata": {},
   "outputs": [
    {
     "data": {
      "image/png": "[encoded data removed]",
      "text/plain": [
       "<Figure size 432x216 with 1 Axes>"
      ]
     },
     "metadata": {
      "needs_background": "light"
     },
     "output_type": "display_data"
    }
   ],
   "source": [
    "df_valid.hist(column='pitch', grid=False, bins=127,figsize=(6,3))\n",
    "plt.title(\"Pitch Distribution: Validation\")\n",
    "plt.ylabel(\"Count\")\n",
    "plt.xlabel(\"MIDI Pitch\")\n",
    "plt.tight_layout()\n",
    "plt.savefig(plots_dir+\"pitch_valid\")"
   ]
  },
  {
   "cell_type": "code",
   "execution_count": 28,
   "metadata": {},
   "outputs": [
    {
     "data": {
      "image/png": "[encoded data removed]",
      "text/plain": [
       "<Figure size 432x216 with 1 Axes>"
      ]
     },
     "metadata": {
      "needs_background": "light"
     },
     "output_type": "display_data"
    }
   ],
   "source": [
    "df_test.hist(column='pitch', grid=False, bins=127,figsize=(6,3))\n",
    "plt.title(\"Pitch Distribution: Testing\")\n",
    "plt.ylabel(\"Count\")\n",
    "plt.xlabel(\"MIDI Pitch\")\n",
    "plt.tight_layout()\n",
    "plt.savefig(plots_dir+\"pitch_test\")"
   ]
  },
  {
   "cell_type": "code",
   "execution_count": 29,
   "metadata": {},
   "outputs": [],
   "source": [
    "#confirm that  pitches in test and valid are also present in train\n",
    "assert (set(df_valid['pitch'])).issubset((set(df_train['pitch'])))\n",
    "assert (set(df_test['pitch'])).issubset((set(df_train['pitch'])))"
   ]
  }
 ],
 "metadata": {
  "kernelspec": {
   "display_name": "Python 3",
   "language": "python",
   "name": "python3"
  },
  "language_info": {
   "codemirror_mode": {
    "name": "ipython",
    "version": 3
   },
   "file_extension": ".py",
   "mimetype": "text/x-python",
   "name": "python",
   "nbconvert_exporter": "python",
   "pygments_lexer": "ipython3",
   "version": "3.8.5"
  }
 },
 "nbformat": 4,
 "nbformat_minor": 2
}
