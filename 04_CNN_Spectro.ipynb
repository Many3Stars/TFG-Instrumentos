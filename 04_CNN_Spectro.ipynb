{
 "cells": [
  {
   "cell_type": "code",
   "execution_count": 1,
   "metadata": {},
   "outputs": [],
   "source": [
    "import numpy as np\n",
    "import pandas as pd\n",
    "import librosa\n",
    "import os\n",
    "import glob\n",
    "import re\n",
    "import seaborn as sns\n",
    "import matplotlib.pyplot as plt\n",
    "import scipy\n",
    "import time\n",
    "import collections\n",
    "import keras\n",
    "from keras.utils import np_utils, to_categorical\n",
    "from keras.layers import Conv2D, MaxPooling2D, GlobalAveragePooling2D\n",
    "from keras.layers import Dense, Dropout, Activation, Flatten\n",
    "from keras.preprocessing.image import ImageDataGenerator\n",
    "from keras.models import Sequential\n",
    "import tensorflow as tf\n",
    "import pickle\n",
    "from keras.utils.vis_utils import plot_model\n"
   ]
  },
  {
   "cell_type": "markdown",
   "metadata": {},
   "source": [
    "## Configuration data"
   ]
  },
  {
   "cell_type": "code",
   "execution_count": 2,
   "metadata": {},
   "outputs": [],
   "source": [
    "data_dir=\"C:/Users/alver/Desktop/TFG/TFG2/Instrumentos/DataInput/Preprocessed/\"\n",
    "models_dir='C:/Users/alver/Desktop/TFG/TFG2/Instrumentos/Models/CNN/'\n",
    "imagetype='X_SPECTRO'\n",
    "model_folder='/Ejemplo1/' #Change, you need a different model for each training\n",
    "\n",
    "#Convolutional layers\n",
    "layers=2\n",
    "\n",
    "batch_size = 500 #1000\n",
    "#training epochs\n",
    "epochs = 50\n",
    "#assume we dont need data augmentation\n",
    "#data_augmentation = False"
   ]
  },
  {
   "cell_type": "markdown",
   "metadata": {},
   "source": [
    "## User defined functions"
   ]
  },
  {
   "cell_type": "code",
   "execution_count": 3,
   "metadata": {},
   "outputs": [],
   "source": [
    "def LoadPreprocessImage(data_dir,imagetype,settype):\n",
    "    \"\"\"\n",
    "    Define function that takes a data file with images and pre-processit to make it have the correct format \n",
    "    for Keras (i.e. samples * wx * wy * 1)\n",
    "    \"\"\"\n",
    "    \n",
    "    #We load the file \n",
    "    with open(data_dir+imagetype+\"_\"+settype+\".pickle\", 'rb') as f:\n",
    "        #print(f)\n",
    "        X = pickle.load(f)\n",
    "    \n",
    "    #We add the single forth dimension\n",
    "    sh=X.shape\n",
    "    sh=list(sh)\n",
    "    sh.append(1)\n",
    "    \n",
    "    X=X.reshape(sh)\n",
    "    \n",
    "    print(X.shape)\n",
    "    \n",
    "    return X"
   ]
  },
  {
   "cell_type": "code",
   "execution_count": 4,
   "metadata": {},
   "outputs": [],
   "source": [
    "def LoadPreprocessLabels(data_dir,settype,num_classes):\n",
    "    \"\"\"\n",
    "    Define function that takes a Label file and preprocess it to make it have the correct format \n",
    "    for Keras (it delets the non valid set, and make it 1hot)\n",
    "    \"\"\"\n",
    "    \n",
    "    with open(data_dir+\"Y_\"+settype+\".pickle\", 'rb') as f:\n",
    "        y = pickle.load(f)\n",
    "    \n",
    "    ind=y == 10\n",
    "    y[ind]=9\n",
    "    \n",
    "    print(len(y))\n",
    "    print(np.unique(y))\n",
    "    \n",
    "    if num_classes<0:\n",
    "        num_classes=np.unique(y).shape[0]\n",
    "    \n",
    "    y1hot=to_categorical(y,num_classes=num_classes)\n",
    "    #y1hot=[]\n",
    "    \n",
    "    return [y,y1hot,num_classes]"
   ]
  },
  {
   "cell_type": "code",
   "execution_count": 5,
   "metadata": {},
   "outputs": [],
   "source": [
    "def PrepareSingleCNN(shape,layers,num_classes):\n",
    "    \n",
    "    model = Sequential()\n",
    "      \n",
    "    #=X_train.shape[1:]\n",
    "    \n",
    "    u=32\n",
    "    \n",
    "    #We add as many intermediate layers as indicated in layers\n",
    "    for i in range(layers):\n",
    "        model.add(Conv2D(u, (3, 3), padding='same',\n",
    "                 input_shape=X_train.shape[1:]))\n",
    "        model.add(Activation('relu'))\n",
    "        model.add(Conv2D(u, (3, 3)))\n",
    "        model.add(Activation('relu'))\n",
    "        model.add(MaxPooling2D(pool_size=(2, 2)))\n",
    "        model.add(Dropout(0.25))\n",
    "        u=u*2\n",
    "        \n",
    "\n",
    "    model.add(Flatten())\n",
    "    model.add(Dense(u))\n",
    "    model.add(Activation('relu'))\n",
    "    model.add(Dropout(0.5))\n",
    "    model.add(Dense(num_classes))\n",
    "    model.add(Activation('softmax'))\n",
    "    \n",
    "    \n",
    "    model.summary()\n",
    "    \n",
    "    \n",
    "    opt = keras.optimizers.Adam(lr=0.0001, beta_1=0.9, beta_2=0.999, epsilon=None, decay=0.0, amsgrad=False)\n",
    "\n",
    "\n",
    "    # Let's train the model\n",
    "    model.compile(loss='categorical_crossentropy',\n",
    "              optimizer=opt,\n",
    "              metrics=['accuracy','acc'])\n",
    "    \n",
    "    return model\n",
    "    "
   ]
  },
  {
   "cell_type": "code",
   "execution_count": 6,
   "metadata": {},
   "outputs": [],
   "source": [
    "def plot_confusion_matrix(y_true, y_pred, classes,\n",
    "                          normalize=False,\n",
    "                          title=None,\n",
    "                          cmap=plt.cm.Blues):\n",
    "    \"\"\"\n",
    "    This function prints and plots the confusion matrix.\n",
    "    Normalization can be applied by setting `normalize=True`.\n",
    "    \"\"\"\n",
    "    if not title:\n",
    "        if normalize:\n",
    "            title = 'Normalized confusion matrix'\n",
    "        else:\n",
    "            title = 'Confusion matrix, without normalization'\n",
    "\n",
    "    # Compute confusion matrix\n",
    "    cm = confusion_matrix(y_true, y_pred)\n",
    "    # Only use the labels that appear in the data\n",
    "    classes = classes[unique_labels(y_true, y_pred)]\n",
    "    if normalize:\n",
    "        cm = cm.astype('float') / cm.sum(axis=1)[:, np.newaxis]\n",
    "        print(\"Normalized confusion matrix\")\n",
    "    else:\n",
    "        print('Confusion matrix, without normalization')\n",
    "\n",
    "    print(cm)\n",
    "\n",
    "    fig, ax = plt.subplots(figsize=(10,10))\n",
    "    im = ax.imshow(cm, interpolation='nearest', cmap=cmap)\n",
    "    ax.figure.colorbar(im, ax=ax)\n",
    "    # We want to show all ticks...\n",
    "    ax.set(xticks=np.arange(cm.shape[1]),\n",
    "           yticks=np.arange(cm.shape[0]),\n",
    "           # ... and label them with the respective list entries\n",
    "           xticklabels=classes, yticklabels=classes,\n",
    "           title=title,\n",
    "           ylabel='True label',\n",
    "           xlabel='Predicted label')\n",
    "\n",
    "    # Rotate the tick labels and set their alignment.\n",
    "    plt.setp(ax.get_xticklabels(), rotation=45, ha=\"right\",\n",
    "             rotation_mode=\"anchor\")\n",
    "    \n",
    "    # Loop over data dimensions and create text annotations.\n",
    "    fmt = '.2f' if normalize else 'd'\n",
    "    thresh = cm.max() / 2.\n",
    "    for i in range(cm.shape[0]):\n",
    "        for j in range(cm.shape[1]):\n",
    "            ax.text(j, i, format(cm[i, j], fmt),\n",
    "                    ha=\"center\", va=\"center\",\n",
    "                    color=\"white\" if cm[i, j] > thresh else \"black\")\n",
    "    #fig.tight_layout()\n",
    "    return ax"
   ]
  },
  {
   "cell_type": "markdown",
   "metadata": {},
   "source": [
    "### Load Data"
   ]
  },
  {
   "cell_type": "code",
   "execution_count": 7,
   "metadata": {},
   "outputs": [
    {
     "name": "stdout",
     "output_type": "stream",
     "text": [
      "(500, 128, 173, 1)\n",
      "(50, 128, 173, 1)\n",
      "(50, 128, 173, 1)\n"
     ]
    }
   ],
   "source": [
    "#Load Images\n",
    "X_train=LoadPreprocessImage(data_dir,imagetype,'train')\n",
    "X_test=LoadPreprocessImage(data_dir,imagetype,'test')\n",
    "X_valid=LoadPreprocessImage(data_dir,imagetype,'valid')"
   ]
  },
  {
   "cell_type": "code",
   "execution_count": 8,
   "metadata": {},
   "outputs": [
    {
     "name": "stdout",
     "output_type": "stream",
     "text": [
      "500\n",
      "[0 1 2 3 4 5 6 7 8 9]\n",
      "50\n",
      "[0 1 2 3 4 5 6 7 8 9]\n",
      "50\n",
      "[0 1 2 3 4 5 6 7 8 9]\n"
     ]
    }
   ],
   "source": [
    "#load targets\n",
    "Y_train,Y1hot_train,num_classes=LoadPreprocessLabels(data_dir,'train',-1)\n",
    "Y_test,Y1hot_test,cc=LoadPreprocessLabels(data_dir,'test',num_classes)\n",
    "Y_valid,Y1hot_valid,cc=LoadPreprocessLabels(data_dir,'valid',num_classes)"
   ]
  },
  {
   "cell_type": "markdown",
   "metadata": {},
   "source": [
    "## Prepare model"
   ]
  },
  {
   "cell_type": "code",
   "execution_count": 9,
   "metadata": {},
   "outputs": [
    {
     "name": "stdout",
     "output_type": "stream",
     "text": [
      "Model: \"sequential\"\n",
      "_________________________________________________________________\n",
      "Layer (type)                 Output Shape              Param #   \n",
      "=================================================================\n",
      "conv2d (Conv2D)              (None, 128, 173, 32)      320       \n",
      "_________________________________________________________________\n",
      "activation (Activation)      (None, 128, 173, 32)      0         \n",
      "_________________________________________________________________\n",
      "conv2d_1 (Conv2D)            (None, 126, 171, 32)      9248      \n",
      "_________________________________________________________________\n",
      "activation_1 (Activation)    (None, 126, 171, 32)      0         \n",
      "_________________________________________________________________\n",
      "max_pooling2d (MaxPooling2D) (None, 63, 85, 32)        0         \n",
      "_________________________________________________________________\n",
      "dropout (Dropout)            (None, 63, 85, 32)        0         \n",
      "_________________________________________________________________\n",
      "conv2d_2 (Conv2D)            (None, 63, 85, 64)        18496     \n",
      "_________________________________________________________________\n",
      "activation_2 (Activation)    (None, 63, 85, 64)        0         \n",
      "_________________________________________________________________\n",
      "conv2d_3 (Conv2D)            (None, 61, 83, 64)        36928     \n",
      "_________________________________________________________________\n",
      "activation_3 (Activation)    (None, 61, 83, 64)        0         \n",
      "_________________________________________________________________\n",
      "max_pooling2d_1 (MaxPooling2 (None, 30, 41, 64)        0         \n",
      "_________________________________________________________________\n",
      "dropout_1 (Dropout)          (None, 30, 41, 64)        0         \n",
      "_________________________________________________________________\n",
      "flatten (Flatten)            (None, 78720)             0         \n",
      "_________________________________________________________________\n",
      "dense (Dense)                (None, 128)               10076288  \n",
      "_________________________________________________________________\n",
      "activation_4 (Activation)    (None, 128)               0         \n",
      "_________________________________________________________________\n",
      "dropout_2 (Dropout)          (None, 128)               0         \n",
      "_________________________________________________________________\n",
      "dense_1 (Dense)              (None, 10)                1290      \n",
      "_________________________________________________________________\n",
      "activation_5 (Activation)    (None, 10)                0         \n",
      "=================================================================\n",
      "Total params: 10,142,570\n",
      "Trainable params: 10,142,570\n",
      "Non-trainable params: 0\n",
      "_________________________________________________________________\n"
     ]
    }
   ],
   "source": [
    "#print(\"Trained model will be saved as {} in directory {}\".format(model_name, save_dir))\n",
    "model=PrepareSingleCNN(X_train.shape[1:],layers,num_classes)"
   ]
  },
  {
   "cell_type": "markdown",
   "metadata": {},
   "source": [
    "## Train model"
   ]
  },
  {
   "cell_type": "code",
   "execution_count": 10,
   "metadata": {},
   "outputs": [
    {
     "name": "stdout",
     "output_type": "stream",
     "text": [
      "Epoch 1/50\n",
      "1/1 [==============================] - 0s 272ms/step - loss: 29.9518 - accuracy: 0.1140 - acc: 0.1140 - val_loss: 15.8152 - val_accuracy: 0.1000 - val_acc: 0.1000\n",
      "Epoch 2/50\n",
      "1/1 [==============================] - 0s 141ms/step - loss: 21.7031 - accuracy: 0.1740 - acc: 0.1740 - val_loss: 12.4979 - val_accuracy: 0.1000 - val_acc: 0.1000\n",
      "Epoch 3/50\n",
      "1/1 [==============================] - 0s 139ms/step - loss: 17.4828 - accuracy: 0.2160 - acc: 0.2160 - val_loss: 10.4778 - val_accuracy: 0.0800 - val_acc: 0.0800\n",
      "Epoch 4/50\n",
      "1/1 [==============================] - 0s 142ms/step - loss: 13.0428 - accuracy: 0.2180 - acc: 0.2180 - val_loss: 9.3443 - val_accuracy: 0.1000 - val_acc: 0.1000\n",
      "Epoch 5/50\n",
      "1/1 [==============================] - 0s 145ms/step - loss: 10.3449 - accuracy: 0.2140 - acc: 0.2140 - val_loss: 7.9322 - val_accuracy: 0.1600 - val_acc: 0.1600\n",
      "Epoch 6/50\n",
      "1/1 [==============================] - 0s 137ms/step - loss: 9.8350 - accuracy: 0.2520 - acc: 0.2520 - val_loss: 6.3546 - val_accuracy: 0.1800 - val_acc: 0.1800\n",
      "Epoch 7/50\n",
      "1/1 [==============================] - 0s 141ms/step - loss: 7.9585 - accuracy: 0.2440 - acc: 0.2440 - val_loss: 4.9013 - val_accuracy: 0.1600 - val_acc: 0.1600\n",
      "Epoch 8/50\n",
      "1/1 [==============================] - 0s 135ms/step - loss: 6.7022 - accuracy: 0.2340 - acc: 0.2340 - val_loss: 4.0461 - val_accuracy: 0.1600 - val_acc: 0.1600\n",
      "Epoch 9/50\n",
      "1/1 [==============================] - 0s 136ms/step - loss: 5.3458 - accuracy: 0.2660 - acc: 0.2660 - val_loss: 3.6599 - val_accuracy: 0.1400 - val_acc: 0.1400\n",
      "Epoch 10/50\n",
      "1/1 [==============================] - 0s 140ms/step - loss: 4.7687 - accuracy: 0.2860 - acc: 0.2860 - val_loss: 3.3812 - val_accuracy: 0.1200 - val_acc: 0.1200\n",
      "Epoch 11/50\n",
      "1/1 [==============================] - 0s 148ms/step - loss: 3.8283 - accuracy: 0.2920 - acc: 0.2920 - val_loss: 3.1791 - val_accuracy: 0.1400 - val_acc: 0.1400\n",
      "Epoch 12/50\n",
      "1/1 [==============================] - 0s 138ms/step - loss: 3.6157 - accuracy: 0.2440 - acc: 0.2440 - val_loss: 3.0876 - val_accuracy: 0.1400 - val_acc: 0.1400\n",
      "Epoch 13/50\n",
      "1/1 [==============================] - 0s 141ms/step - loss: 3.3213 - accuracy: 0.2720 - acc: 0.2720 - val_loss: 3.0717 - val_accuracy: 0.1400 - val_acc: 0.1400\n",
      "Epoch 14/50\n",
      "1/1 [==============================] - 0s 146ms/step - loss: 2.7960 - accuracy: 0.2280 - acc: 0.2280 - val_loss: 3.0817 - val_accuracy: 0.1200 - val_acc: 0.1200\n",
      "Epoch 15/50\n",
      "1/1 [==============================] - 0s 138ms/step - loss: 2.7398 - accuracy: 0.2340 - acc: 0.2340 - val_loss: 3.0668 - val_accuracy: 0.1400 - val_acc: 0.1400\n",
      "Epoch 16/50\n",
      "1/1 [==============================] - 0s 142ms/step - loss: 2.4651 - accuracy: 0.2140 - acc: 0.2140 - val_loss: 3.0234 - val_accuracy: 0.1800 - val_acc: 0.1800\n",
      "Epoch 17/50\n",
      "1/1 [==============================] - 0s 138ms/step - loss: 2.5161 - accuracy: 0.2560 - acc: 0.2560 - val_loss: 2.9603 - val_accuracy: 0.1600 - val_acc: 0.1600\n",
      "Epoch 18/50\n",
      "1/1 [==============================] - 0s 135ms/step - loss: 2.3049 - accuracy: 0.2260 - acc: 0.2260 - val_loss: 2.9015 - val_accuracy: 0.2400 - val_acc: 0.2400\n",
      "Epoch 19/50\n",
      "1/1 [==============================] - 0s 140ms/step - loss: 2.3684 - accuracy: 0.2760 - acc: 0.2760 - val_loss: 2.8340 - val_accuracy: 0.2200 - val_acc: 0.2200\n",
      "Epoch 20/50\n",
      "1/1 [==============================] - 0s 144ms/step - loss: 2.0139 - accuracy: 0.2900 - acc: 0.2900 - val_loss: 2.7763 - val_accuracy: 0.2400 - val_acc: 0.2400\n",
      "Epoch 21/50\n",
      "1/1 [==============================] - 0s 138ms/step - loss: 2.0961 - accuracy: 0.2880 - acc: 0.2880 - val_loss: 2.7280 - val_accuracy: 0.2400 - val_acc: 0.2400\n",
      "Epoch 22/50\n",
      "1/1 [==============================] - 0s 145ms/step - loss: 2.0365 - accuracy: 0.2820 - acc: 0.2820 - val_loss: 2.6933 - val_accuracy: 0.2400 - val_acc: 0.2400\n",
      "Epoch 23/50\n",
      "1/1 [==============================] - 0s 138ms/step - loss: 2.0974 - accuracy: 0.2900 - acc: 0.2900 - val_loss: 2.6621 - val_accuracy: 0.2200 - val_acc: 0.2200\n",
      "Epoch 24/50\n",
      "1/1 [==============================] - 0s 134ms/step - loss: 2.1260 - accuracy: 0.2680 - acc: 0.2680 - val_loss: 2.6377 - val_accuracy: 0.2200 - val_acc: 0.2200\n",
      "Epoch 25/50\n",
      "1/1 [==============================] - 0s 134ms/step - loss: 2.0369 - accuracy: 0.2900 - acc: 0.2900 - val_loss: 2.6152 - val_accuracy: 0.2200 - val_acc: 0.2200\n",
      "Epoch 26/50\n",
      "1/1 [==============================] - 0s 138ms/step - loss: 2.0930 - accuracy: 0.2640 - acc: 0.2640 - val_loss: 2.5998 - val_accuracy: 0.2000 - val_acc: 0.2000\n",
      "Epoch 27/50\n",
      "1/1 [==============================] - 0s 139ms/step - loss: 2.0080 - accuracy: 0.3040 - acc: 0.3040 - val_loss: 2.5934 - val_accuracy: 0.1800 - val_acc: 0.1800\n",
      "Epoch 28/50\n",
      "1/1 [==============================] - 0s 139ms/step - loss: 2.0799 - accuracy: 0.2920 - acc: 0.2920 - val_loss: 2.5900 - val_accuracy: 0.1800 - val_acc: 0.1800\n",
      "Epoch 29/50\n",
      "1/1 [==============================] - 0s 137ms/step - loss: 1.9764 - accuracy: 0.3040 - acc: 0.3040 - val_loss: 2.5797 - val_accuracy: 0.2000 - val_acc: 0.2000\n",
      "Epoch 30/50\n",
      "1/1 [==============================] - 0s 136ms/step - loss: 2.0154 - accuracy: 0.2940 - acc: 0.2940 - val_loss: 2.5695 - val_accuracy: 0.2200 - val_acc: 0.2200\n",
      "Epoch 31/50\n",
      "1/1 [==============================] - 0s 136ms/step - loss: 2.0294 - accuracy: 0.2800 - acc: 0.2800 - val_loss: 2.5622 - val_accuracy: 0.2400 - val_acc: 0.2400\n",
      "Epoch 32/50\n",
      "1/1 [==============================] - 0s 137ms/step - loss: 1.9643 - accuracy: 0.2920 - acc: 0.2920 - val_loss: 2.5608 - val_accuracy: 0.2600 - val_acc: 0.2600\n",
      "Epoch 33/50\n",
      "1/1 [==============================] - 0s 137ms/step - loss: 1.9621 - accuracy: 0.3060 - acc: 0.3060 - val_loss: 2.5594 - val_accuracy: 0.2600 - val_acc: 0.2600\n",
      "Epoch 34/50\n",
      "1/1 [==============================] - 0s 141ms/step - loss: 1.9230 - accuracy: 0.3140 - acc: 0.3140 - val_loss: 2.5659 - val_accuracy: 0.2400 - val_acc: 0.2400\n",
      "Epoch 35/50\n",
      "1/1 [==============================] - 0s 142ms/step - loss: 1.9046 - accuracy: 0.3200 - acc: 0.3200 - val_loss: 2.5756 - val_accuracy: 0.2600 - val_acc: 0.2600\n",
      "Epoch 36/50\n",
      "1/1 [==============================] - 0s 138ms/step - loss: 1.9268 - accuracy: 0.3280 - acc: 0.3280 - val_loss: 2.5880 - val_accuracy: 0.2600 - val_acc: 0.2600\n",
      "Epoch 37/50\n",
      "1/1 [==============================] - 0s 134ms/step - loss: 1.8888 - accuracy: 0.3100 - acc: 0.3100 - val_loss: 2.5996 - val_accuracy: 0.2400 - val_acc: 0.2400\n",
      "Epoch 38/50\n",
      "1/1 [==============================] - 0s 140ms/step - loss: 1.8919 - accuracy: 0.3100 - acc: 0.3100 - val_loss: 2.6101 - val_accuracy: 0.2400 - val_acc: 0.2400\n",
      "Epoch 39/50\n",
      "1/1 [==============================] - 0s 134ms/step - loss: 1.8894 - accuracy: 0.3120 - acc: 0.3120 - val_loss: 2.6212 - val_accuracy: 0.2400 - val_acc: 0.2400\n",
      "Epoch 40/50\n",
      "1/1 [==============================] - 0s 138ms/step - loss: 1.8901 - accuracy: 0.2980 - acc: 0.2980 - val_loss: 2.6434 - val_accuracy: 0.2400 - val_acc: 0.2400\n",
      "Epoch 41/50\n",
      "1/1 [==============================] - 0s 135ms/step - loss: 1.8964 - accuracy: 0.3120 - acc: 0.3120 - val_loss: 2.6647 - val_accuracy: 0.2400 - val_acc: 0.2400\n",
      "Epoch 42/50\n",
      "1/1 [==============================] - 0s 143ms/step - loss: 1.9193 - accuracy: 0.3180 - acc: 0.3180 - val_loss: 2.6852 - val_accuracy: 0.2600 - val_acc: 0.2600\n",
      "Epoch 43/50\n",
      "1/1 [==============================] - 0s 135ms/step - loss: 1.8544 - accuracy: 0.3240 - acc: 0.3240 - val_loss: 2.7027 - val_accuracy: 0.2600 - val_acc: 0.2600\n",
      "Epoch 44/50\n",
      "1/1 [==============================] - 0s 146ms/step - loss: 1.8693 - accuracy: 0.3300 - acc: 0.3300 - val_loss: 2.7137 - val_accuracy: 0.2600 - val_acc: 0.2600\n",
      "Epoch 45/50\n",
      "1/1 [==============================] - 0s 136ms/step - loss: 1.8841 - accuracy: 0.3020 - acc: 0.3020 - val_loss: 2.7197 - val_accuracy: 0.2600 - val_acc: 0.2600\n",
      "Epoch 46/50\n",
      "1/1 [==============================] - 0s 137ms/step - loss: 1.8439 - accuracy: 0.3180 - acc: 0.3180 - val_loss: 2.7258 - val_accuracy: 0.2600 - val_acc: 0.2600\n",
      "Epoch 47/50\n",
      "1/1 [==============================] - 0s 135ms/step - loss: 1.8601 - accuracy: 0.3240 - acc: 0.3240 - val_loss: 2.7270 - val_accuracy: 0.2600 - val_acc: 0.2600\n",
      "Epoch 48/50\n"
     ]
    },
    {
     "name": "stdout",
     "output_type": "stream",
     "text": [
      "1/1 [==============================] - 0s 143ms/step - loss: 1.8563 - accuracy: 0.3500 - acc: 0.3500 - val_loss: 2.7305 - val_accuracy: 0.2600 - val_acc: 0.2600\n",
      "Epoch 49/50\n",
      "1/1 [==============================] - 0s 134ms/step - loss: 1.8373 - accuracy: 0.3460 - acc: 0.3460 - val_loss: 2.7360 - val_accuracy: 0.2400 - val_acc: 0.2400\n",
      "Epoch 50/50\n",
      "1/1 [==============================] - 0s 137ms/step - loss: 1.7810 - accuracy: 0.3280 - acc: 0.3280 - val_loss: 2.7399 - val_accuracy: 0.2200 - val_acc: 0.2200\n"
     ]
    }
   ],
   "source": [
    "history = model.fit(X_train, Y1hot_train,\n",
    "          batch_size=batch_size,\n",
    "          epochs=epochs,\n",
    "          validation_data=(X_valid, Y1hot_valid),\n",
    "          shuffle=True)"
   ]
  },
  {
   "cell_type": "code",
   "execution_count": 11,
   "metadata": {},
   "outputs": [],
   "source": [
    "#Prepare model folder, in case it does not exist\n",
    "models_dir=models_dir+imagetype+model_folder\n",
    "if not os.path.isdir(models_dir):\n",
    "    os.makedirs(models_dir)"
   ]
  },
  {
   "cell_type": "code",
   "execution_count": 12,
   "metadata": {},
   "outputs": [
    {
     "data": {
      "image/png": "[encoded data removed]",
      "text/plain": [
       "<Figure size 432x288 with 1 Axes>"
      ]
     },
     "metadata": {
      "needs_background": "light"
     },
     "output_type": "display_data"
    }
   ],
   "source": [
    "# Plot training & validation accuracy values\n",
    "plt.plot(history.history['acc'])\n",
    "plt.plot(history.history['val_acc'])\n",
    "plt.title('Model accuracy')\n",
    "plt.ylabel('Accuracy')\n",
    "plt.xlabel('Epoch')\n",
    "plt.legend(['Train', 'Valid'], loc='upper left')\n",
    "plt.savefig(models_dir+'accuracy.png')\n",
    "plt.show()"
   ]
  },
  {
   "cell_type": "code",
   "execution_count": 13,
   "metadata": {},
   "outputs": [
    {
     "data": {
      "image/png": "[encoded data removed]",
      "text/plain": [
       "<Figure size 432x288 with 1 Axes>"
      ]
     },
     "metadata": {
      "needs_background": "light"
     },
     "output_type": "display_data"
    }
   ],
   "source": [
    "# Plot training & validation loss values\n",
    "plt.plot(history.history['loss'])\n",
    "plt.plot(history.history['val_loss'])\n",
    "plt.title('Model loss')\n",
    "plt.ylabel('Loss')\n",
    "plt.xlabel('Epoch')\n",
    "plt.legend(['Train', 'Valid'], loc='upper left')\n",
    "plt.savefig(models_dir+'loss.png')\n",
    "plt.show()"
   ]
  },
  {
   "cell_type": "code",
   "execution_count": 14,
   "metadata": {},
   "outputs": [
    {
     "name": "stdout",
     "output_type": "stream",
     "text": [
      "WARNING:tensorflow:From C:\\Users\\alver\\anaconda3\\envs\\NSynth\\lib\\site-packages\\tensorflow\\python\\training\\tracking\\tracking.py:111: Model.state_updates (from tensorflow.python.keras.engine.training) is deprecated and will be removed in a future version.\n",
      "Instructions for updating:\n",
      "This property should not be used in TensorFlow 2.0, as updates are applied automatically.\n",
      "WARNING:tensorflow:From C:\\Users\\alver\\anaconda3\\envs\\NSynth\\lib\\site-packages\\tensorflow\\python\\training\\tracking\\tracking.py:111: Layer.updates (from tensorflow.python.keras.engine.base_layer) is deprecated and will be removed in a future version.\n",
      "Instructions for updating:\n",
      "This property should not be used in TensorFlow 2.0, as updates are applied automatically.\n",
      "INFO:tensorflow:Assets written to: C:/Users/alver/Desktop/TFG/TFG2/Instrumentos/Models/CNN/X_SPECTRO/Ejemplo1/model\\assets\n",
      "Saved trained model at C:/Users/alver/Desktop/TFG/TFG2/Instrumentos/Models/CNN/X_SPECTRO/Ejemplo1/model \n"
     ]
    }
   ],
   "source": [
    "# Save model and weights\n",
    "model_path = os.path.join(models_dir,\"model\")\n",
    "model.save(model_path)\n",
    "print('Saved trained model at %s ' % model_path)"
   ]
  },
  {
   "cell_type": "code",
   "execution_count": 15,
   "metadata": {},
   "outputs": [
    {
     "name": "stdout",
     "output_type": "stream",
     "text": [
      "2/2 [==============================] - 0s 24ms/step - loss: 2.9839 - accuracy: 0.1200 - acc: 0.1200\n",
      "Test loss: 2.9838624000549316\n",
      "Test accuracy: 0.11999999731779099\n"
     ]
    }
   ],
   "source": [
    "# Score trained model.\n",
    "scores = model.evaluate(X_test, Y1hot_test, verbose=1)\n",
    "print('Test loss:', scores[0])\n",
    "print('Test accuracy:', scores[1])"
   ]
  },
  {
   "cell_type": "code",
   "execution_count": null,
   "metadata": {},
   "outputs": [],
   "source": [
    "# Manuel, can you do a confusion matrix? I have already brought the code from the other case. \n",
    "# It is necessary to obtain y_pred from the model"
   ]
  },
  {
   "cell_type": "code",
   "execution_count": null,
   "metadata": {},
   "outputs": [],
   "source": []
  }
 ],
 "metadata": {
  "kernelspec": {
   "display_name": "Python 3",
   "language": "python",
   "name": "python3"
  },
  "language_info": {
   "codemirror_mode": {
    "name": "ipython",
    "version": 3
   },
   "file_extension": ".py",
   "mimetype": "text/x-python",
   "name": "python",
   "nbconvert_exporter": "python",
   "pygments_lexer": "ipython3",
   "version": "3.8.5"
  }
 },
 "nbformat": 4,
 "nbformat_minor": 2
}
